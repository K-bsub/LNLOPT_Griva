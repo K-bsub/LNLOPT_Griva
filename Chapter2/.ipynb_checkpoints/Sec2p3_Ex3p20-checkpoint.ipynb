{
 "cells": [
  {
   "cell_type": "markdown",
   "id": "c2d6c25f-d50e-41be-b12d-f0925a6f268e",
   "metadata": {},
   "source": [
    "# Chapter 2 Section 3 Exercise 3.20"
   ]
  },
  {
   "cell_type": "code",
   "execution_count": 16,
   "id": "8053cb2b-8538-4a4d-aa27-b4b529f39fac",
   "metadata": {},
   "outputs": [
    {
     "name": "stdout",
     "output_type": "stream",
     "text": [
      "Last Updated on: 2022-04-30 11:37:21.049320\n"
     ]
    }
   ],
   "source": [
    "from datetime import datetime\n",
    "print(\"Last Updated on: \" + str(datetime.now()))"
   ]
  },
  {
   "cell_type": "markdown",
   "id": "8a790c7e-bf53-49bb-b41d-7512dd560029",
   "metadata": {},
   "source": [
    "## Problem Statement\n",
    "\n",
    "Determine if $f(x_1,x_2) = 2x_1^{2} - 3x_1x_2 + 5x_2^{2} - 2x_1 + 6x_2$ is convex, concave, both or neither for $x$ in **$R^{n}$**."
   ]
  },
  {
   "cell_type": "code",
   "execution_count": 17,
   "id": "ded3c708-92cb-4665-a046-19a4d641086f",
   "metadata": {},
   "outputs": [],
   "source": [
    "from sympy import *"
   ]
  },
  {
   "cell_type": "markdown",
   "id": "67bde34a-aee5-4558-abc1-5f8d3e8d6aa3",
   "metadata": {},
   "source": [
    "## Define variables and evaluate Hessian"
   ]
  },
  {
   "cell_type": "code",
   "execution_count": 18,
   "id": "8271ae92-b200-4316-8729-6299ae3f8fc1",
   "metadata": {},
   "outputs": [
    {
     "data": {
      "text/latex": [
       "$\\displaystyle \\left[\\begin{matrix}4 & -3\\\\-3 & 10\\end{matrix}\\right]$"
      ],
      "text/plain": [
       "⎡4   -3⎤\n",
       "⎢      ⎥\n",
       "⎣-3  10⎦"
      ]
     },
     "execution_count": 18,
     "metadata": {},
     "output_type": "execute_result"
    }
   ],
   "source": [
    "x1 = Symbol('x1')\n",
    "x2 = Symbol('x2')\n",
    "h = hessian(2*x1**2 - 3*x1*x2 + 5*x2**2 - 2*x1 + 6*x2,(x1,x2))\n",
    "h"
   ]
  },
  {
   "cell_type": "markdown",
   "id": "49a68f0f-e77b-445b-8402-9ab55ce587db",
   "metadata": {},
   "source": [
    "## Convexity Check\n",
    "\n",
    "To check if the Hessian is positive definite, we will calculate the Eigen Values of the Hessian."
   ]
  },
  {
   "cell_type": "code",
   "execution_count": 19,
   "id": "67ad57a1-a2bc-434c-acfa-4be6e4abe1a7",
   "metadata": {},
   "outputs": [
    {
     "data": {
      "image/png": "[encoded data removed]",
      "text/latex": [
       "$\\displaystyle \\left\\{ 7 - 3 \\sqrt{2} : 1, \\  3 \\sqrt{2} + 7 : 1\\right\\}$"
      ],
      "text/plain": [
       "{7 - 3⋅√2: 1, 3⋅√2 + 7: 1}"
      ]
     },
     "execution_count": 19,
     "metadata": {},
     "output_type": "execute_result"
    }
   ],
   "source": [
    "h.eigenvals()"
   ]
  },
  {
   "cell_type": "code",
   "execution_count": 20,
   "id": "fd4fb323-61fc-4ddf-b0a6-e6f5190aa5e9",
   "metadata": {},
   "outputs": [
    {
     "data": {
      "text/plain": [
       "True"
      ]
     },
     "execution_count": 20,
     "metadata": {},
     "output_type": "execute_result"
    }
   ],
   "source": [
    "h.is_positive_definite"
   ]
  },
  {
   "cell_type": "markdown",
   "id": "1da94a93-2f8a-4fa8-af85-3717c13d8a64",
   "metadata": {},
   "source": [
    "As seen above, the eigen values are positive. Hence the function **strictly convex**."
   ]
  }
 ],
 "metadata": {
  "kernelspec": {
   "display_name": "Anaconda (base)",
   "language": "python",
   "name": "anaconda-base"
  },
  "language_info": {
   "codemirror_mode": {
    "name": "ipython",
    "version": 3
   },
   "file_extension": ".py",
   "mimetype": "text/x-python",
   "name": "python",
   "nbconvert_exporter": "python",
   "pygments_lexer": "ipython3",
   "version": "3.9.7"
  }
 },
 "nbformat": 4,
 "nbformat_minor": 5
}
