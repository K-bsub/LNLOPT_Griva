{
 "cells": [
  {
   "cell_type": "markdown",
   "id": "f5823a84-4c51-4fc9-8897-2fd520b7b8f4",
   "metadata": {},
   "source": [
    "# Chapter 2 Section 2 Exercise 3.19"
   ]
  },
  {
   "cell_type": "code",
   "execution_count": 35,
   "id": "728e3061-70d1-40b0-8a07-f87eb8da68c4",
   "metadata": {},
   "outputs": [
    {
     "name": "stdout",
     "output_type": "stream",
     "text": [
      "Last Updated on: 2022-04-30 11:04:55.162548\n"
     ]
    }
   ],
   "source": [
    "from datetime import datetime\n",
    "print(\"Last Updated on: \" + str(datetime.now()))"
   ]
  },
  {
   "cell_type": "markdown",
   "id": "08be5942-9859-491d-b200-ddcb8cdcbc49",
   "metadata": {},
   "source": [
    "## Problem Statement\n",
    "\n",
    "For each of the following functions, determine if it is convex, concave, and if so if it is strictly convex or concave."
   ]
  },
  {
   "cell_type": "markdown",
   "id": "527baf31-66ba-4431-bf23-ee40c636ea2a",
   "metadata": {},
   "source": [
    "## Import packages"
   ]
  },
  {
   "cell_type": "code",
   "execution_count": 36,
   "id": "9728f30d-0468-4f2f-8a02-a3aa44d5be7b",
   "metadata": {},
   "outputs": [],
   "source": [
    "from sympy import *"
   ]
  },
  {
   "cell_type": "markdown",
   "id": "4ecdc0d8-3e5b-429d-ad3e-12036227fc17",
   "metadata": {},
   "source": [
    "## $f(x) = 3x^{2} + 4x - 5$"
   ]
  },
  {
   "cell_type": "code",
   "execution_count": 37,
   "id": "ea7e5483-c25a-4633-bbe1-51b3e1ed8f36",
   "metadata": {},
   "outputs": [
    {
     "data": {
      "text/latex": [
       "$\\displaystyle 6$"
      ],
      "text/plain": [
       "6"
      ]
     },
     "execution_count": 37,
     "metadata": {},
     "output_type": "execute_result"
    }
   ],
   "source": [
    "x = Symbol('x')\n",
    "expr = diff(3*x**2 + 4*x - 5, x, x)\n",
    "expr"
   ]
  },
  {
   "cell_type": "markdown",
   "id": "73669a49-f397-4c08-88fa-5456e43b2004",
   "metadata": {},
   "source": [
    "This function is **strictly convex**."
   ]
  },
  {
   "cell_type": "markdown",
   "id": "0ee12260-e05b-4443-b111-7130ab9def57",
   "metadata": {},
   "source": [
    "## $f(x) = e^{x^{2}}$"
   ]
  },
  {
   "cell_type": "code",
   "execution_count": 38,
   "id": "359f6743-2bb2-438f-9e62-4c94d3118ecf",
   "metadata": {},
   "outputs": [
    {
     "data": {
      "text/latex": [
       "$\\displaystyle 2 \\cdot \\left(2 x^{2} + 1\\right) e^{x^{2}}$"
      ],
      "text/plain": [
       "2*(2*x**2 + 1)*exp(x**2)"
      ]
     },
     "execution_count": 38,
     "metadata": {},
     "output_type": "execute_result"
    }
   ],
   "source": [
    "expr = diff(exp(x**2),x,x)\n",
    "expr"
   ]
  },
  {
   "cell_type": "code",
   "execution_count": 39,
   "id": "a4e8fa8b-45c5-4b7e-abe0-aa4436ff83a3",
   "metadata": {},
   "outputs": [
    {
     "name": "stdout",
     "output_type": "stream",
     "text": [
      "6*E\n",
      "2\n",
      "6*E\n"
     ]
    }
   ],
   "source": [
    "print(expr.subs(x,-1))\n",
    "print(expr.subs(x,0))\n",
    "print(expr.subs(x,1))"
   ]
  },
  {
   "cell_type": "markdown",
   "id": "5bf43a7b-eab6-4487-8e08-38d2fec1d925",
   "metadata": {},
   "source": [
    "Assuming $e = 2.718$, all values of x evaluate to a positive value. Hence the function is **strictly convex**."
   ]
  },
  {
   "cell_type": "markdown",
   "id": "98c45c9d-e3f3-4d10-b660-e6e4e3b291c0",
   "metadata": {},
   "source": [
    "## $f(x) = 7x - 15$"
   ]
  },
  {
   "cell_type": "code",
   "execution_count": 40,
   "id": "3dbd9908-1963-4a1f-9ee7-306e7607eb07",
   "metadata": {},
   "outputs": [
    {
     "data": {
      "text/latex": [
       "$\\displaystyle 0$"
      ],
      "text/plain": [
       "0"
      ]
     },
     "execution_count": 40,
     "metadata": {},
     "output_type": "execute_result"
    }
   ],
   "source": [
    "expr = diff(7*x - 15, x, x)\n",
    "expr"
   ]
  },
  {
   "cell_type": "markdown",
   "id": "28034530-a6aa-4a07-b533-92170b38e8f6",
   "metadata": {},
   "source": [
    "The function is **convex** and **concave**."
   ]
  },
  {
   "cell_type": "markdown",
   "id": "a0c55e5c-83ac-4f4a-8021-c928d26ec3e1",
   "metadata": {},
   "source": [
    "## $f(x) = \\sqrt{1 + x^{2}}$"
   ]
  },
  {
   "cell_type": "code",
   "execution_count": 41,
   "id": "e18d916f-a4f8-4249-99cd-d62b1fbe51ec",
   "metadata": {},
   "outputs": [
    {
     "data": {
      "text/latex": [
       "$\\displaystyle \\frac{- \\frac{x^{2}}{x^{2} + 1} + 1}{\\sqrt{x^{2} + 1}}$"
      ],
      "text/plain": [
       "(-x**2/(x**2 + 1) + 1)/sqrt(x**2 + 1)"
      ]
     },
     "execution_count": 41,
     "metadata": {},
     "output_type": "execute_result"
    }
   ],
   "source": [
    "expr = diff(sqrt(1 + x**2), x, x)\n",
    "expr"
   ]
  },
  {
   "cell_type": "code",
   "execution_count": 42,
   "id": "aae08858-6b49-4ad1-8551-c2be79a3af70",
   "metadata": {},
   "outputs": [
    {
     "name": "stdout",
     "output_type": "stream",
     "text": [
      "sqrt(101)/10201\n",
      "1\n",
      "sqrt(101)/10201\n"
     ]
    }
   ],
   "source": [
    "print(expr.subs(x,-10))\n",
    "print(expr.subs(x,0))\n",
    "print(expr.subs(x,10))"
   ]
  },
  {
   "cell_type": "markdown",
   "id": "7c5ad3a3-99cc-4730-bbeb-cf6b78886eeb",
   "metadata": {},
   "source": [
    "The function is **strictly convex** as all values of $x$ evaluate to a positive number."
   ]
  },
  {
   "cell_type": "markdown",
   "id": "dceba42b-eee9-4baa-a767-1d79a1560961",
   "metadata": {},
   "source": [
    "## $f(x) = 4 - 5x + 3x^{2}$"
   ]
  },
  {
   "cell_type": "code",
   "execution_count": 43,
   "id": "1af05d5b-65a8-419d-9caf-e93f20b87a3b",
   "metadata": {},
   "outputs": [
    {
     "data": {
      "text/latex": [
       "$\\displaystyle 6$"
      ],
      "text/plain": [
       "6"
      ]
     },
     "execution_count": 43,
     "metadata": {},
     "output_type": "execute_result"
    }
   ],
   "source": [
    "expr = diff(4 - 5*x + 3*x**2, x, x)\n",
    "expr"
   ]
  },
  {
   "cell_type": "markdown",
   "id": "39a0310b-899e-46ef-8226-64dd17680036",
   "metadata": {},
   "source": [
    "This function is **strictly convex**."
   ]
  },
  {
   "cell_type": "markdown",
   "id": "1620c3de-054e-431e-a361-8fc15983a445",
   "metadata": {},
   "source": [
    "## $f(x) = 2x^{4} + 3x^{3} + 4x^2$"
   ]
  },
  {
   "cell_type": "code",
   "execution_count": 44,
   "id": "d5667252-810f-439d-b30b-63e924213d08",
   "metadata": {},
   "outputs": [
    {
     "data": {
      "text/latex": [
       "$\\displaystyle 2 \\cdot \\left(12 x^{2} + 9 x + 4\\right)$"
      ],
      "text/plain": [
       "2*(12*x**2 + 9*x + 4)"
      ]
     },
     "execution_count": 44,
     "metadata": {},
     "output_type": "execute_result"
    }
   ],
   "source": [
    "expr = diff(2*x**4 + 3*x**3 + 4*x**2, x, x)\n",
    "expr"
   ]
  },
  {
   "cell_type": "code",
   "execution_count": 45,
   "id": "3b38b67b-81dd-470f-ad45-1ad33eb3b8de",
   "metadata": {},
   "outputs": [
    {
     "name": "stdout",
     "output_type": "stream",
     "text": [
      "14\n",
      "8\n",
      "50\n"
     ]
    }
   ],
   "source": [
    "print(expr.subs(x,-1))\n",
    "print(expr.subs(x,0))\n",
    "print(expr.subs(x,1))"
   ]
  },
  {
   "cell_type": "markdown",
   "id": "83bf744e-4a92-45ae-899c-49a7e9576ea9",
   "metadata": {},
   "source": [
    "The function is **strictly convex** as all values of $x$ evaluate to a positive number."
   ]
  },
  {
   "cell_type": "markdown",
   "id": "28a17c6e-53ed-4043-be74-811cfac08260",
   "metadata": {},
   "source": [
    "## $f(x) = \\frac{x}{1+x^{4}}$"
   ]
  },
  {
   "cell_type": "code",
   "execution_count": 46,
   "id": "64eebc7f-f22c-4fe1-bbe7-033e65a45aca",
   "metadata": {},
   "outputs": [
    {
     "data": {
      "text/latex": [
       "$\\displaystyle \\frac{4 x^{3} \\cdot \\left(\\frac{8 x^{4}}{x^{4} + 1} - 5\\right)}{\\left(x^{4} + 1\\right)^{2}}$"
      ],
      "text/plain": [
       "4*x**3*(8*x**4/(x**4 + 1) - 5)/(x**4 + 1)**2"
      ]
     },
     "execution_count": 46,
     "metadata": {},
     "output_type": "execute_result"
    }
   ],
   "source": [
    "expr = diff(x/(1+x**4), x, x)\n",
    "expr"
   ]
  },
  {
   "cell_type": "code",
   "execution_count": 47,
   "id": "62e10b68-66f9-4812-8704-12fc37b6131a",
   "metadata": {},
   "outputs": [
    {
     "name": "stdout",
     "output_type": "stream",
     "text": [
      "1\n",
      "0\n",
      "-1\n"
     ]
    }
   ],
   "source": [
    "print(expr.subs(x,-1))\n",
    "print(expr.subs(x,0))\n",
    "print(expr.subs(x,1))"
   ]
  },
  {
   "cell_type": "markdown",
   "id": "e4077be1-1e4b-4bab-b4bf-05a620f5e74b",
   "metadata": {},
   "source": [
    "This function is **not convex or concave**."
   ]
  }
 ],
 "metadata": {
  "kernelspec": {
   "display_name": "Anaconda (base)",
   "language": "python",
   "name": "anaconda-base"
  },
  "language_info": {
   "codemirror_mode": {
    "name": "ipython",
    "version": 3
   },
   "file_extension": ".py",
   "mimetype": "text/x-python",
   "name": "python",
   "nbconvert_exporter": "python",
   "pygments_lexer": "ipython3",
   "version": "3.9.7"
  }
 },
 "nbformat": 4,
 "nbformat_minor": 5
}
