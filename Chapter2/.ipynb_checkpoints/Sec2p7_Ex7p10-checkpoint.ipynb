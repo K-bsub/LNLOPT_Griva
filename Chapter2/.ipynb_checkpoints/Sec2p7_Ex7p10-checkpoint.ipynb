{
 "cells": [
  {
   "cell_type": "markdown",
   "id": "8df61432-2c59-4e79-adf5-b7a2143ee38a",
   "metadata": {},
   "source": [
    "# Chapter 2 Section 7 Exercise 7.10"
   ]
  },
  {
   "cell_type": "code",
   "execution_count": 35,
   "id": "48bfd0a6-5b94-4e8e-acf3-372edad91de5",
   "metadata": {},
   "outputs": [
    {
     "name": "stdout",
     "output_type": "stream",
     "text": [
      "Last Updated on: 2022-05-17 16:21:58.102812\n"
     ]
    }
   ],
   "source": [
    "from datetime import datetime\n",
    "print(\"Last Updated on: \" + str(datetime.now()))"
   ]
  },
  {
   "cell_type": "markdown",
   "id": "b60b08d8-61d0-4b75-8765-f26f4f74ac9a",
   "metadata": {},
   "source": [
    "## Problem Statement\n",
    "\n",
    "Apply Newton's method to the system of nonlinear equations\n",
    "\n",
    "$$\n",
    "f_1(x_1,x_2) = x_1^2 + x_2^2 - 1 = 0 \\\\\n",
    "f_2(x_1,x_2) = 5x_1^2 - x_2 - 2 = 0\n",
    "$$\n",
    "\n",
    "Find all four solutions to this system of equations."
   ]
  },
  {
   "cell_type": "markdown",
   "id": "7bb7ed58-c81e-4c3a-8828-eee72ffcc190",
   "metadata": {},
   "source": [
    "## Import packages"
   ]
  },
  {
   "cell_type": "code",
   "execution_count": 36,
   "id": "0b69d46c-63f8-4fba-912d-a3b6545ea978",
   "metadata": {},
   "outputs": [],
   "source": [
    "from sympy import *\n",
    "import numpy as np"
   ]
  },
  {
   "cell_type": "markdown",
   "id": "602c1b71-84f9-4ebe-9c6d-1894325eeb8c",
   "metadata": {},
   "source": [
    "## Find Jacobian"
   ]
  },
  {
   "cell_type": "code",
   "execution_count": 37,
   "id": "aa2f741f-18eb-4a37-a357-d39140227cbf",
   "metadata": {},
   "outputs": [
    {
     "data": {
      "text/latex": [
       "$\\displaystyle 2 x_{1}$"
      ],
      "text/plain": [
       "2*x1"
      ]
     },
     "execution_count": 37,
     "metadata": {},
     "output_type": "execute_result"
    }
   ],
   "source": [
    "x1, x2 = symbols('x1 x2')\n",
    "func1 = x1**2 + x2**2 - 1\n",
    "func2 = 5*x1**2 - x2 - 2\n",
    "\n",
    "diff(func1, x1)"
   ]
  },
  {
   "cell_type": "code",
   "execution_count": 38,
   "id": "3d092514-3e61-49e4-b0eb-7bee7af49290",
   "metadata": {},
   "outputs": [
    {
     "data": {
      "text/latex": [
       "$\\displaystyle 2 x_{2}$"
      ],
      "text/plain": [
       "2*x2"
      ]
     },
     "execution_count": 38,
     "metadata": {},
     "output_type": "execute_result"
    }
   ],
   "source": [
    "diff(func1, x2)"
   ]
  },
  {
   "cell_type": "code",
   "execution_count": 39,
   "id": "639b3a22-bf9a-4e6a-9f0e-d4bf3b59abbc",
   "metadata": {},
   "outputs": [
    {
     "data": {
      "text/latex": [
       "$\\displaystyle 10 x_{1}$"
      ],
      "text/plain": [
       "10*x1"
      ]
     },
     "execution_count": 39,
     "metadata": {},
     "output_type": "execute_result"
    }
   ],
   "source": [
    "diff(func2, x1)"
   ]
  },
  {
   "cell_type": "code",
   "execution_count": 40,
   "id": "9a98e0d7-016a-4ef4-aa74-003f64653157",
   "metadata": {},
   "outputs": [
    {
     "data": {
      "text/latex": [
       "$\\displaystyle -1$"
      ],
      "text/plain": [
       "-1"
      ]
     },
     "execution_count": 40,
     "metadata": {},
     "output_type": "execute_result"
    }
   ],
   "source": [
    "diff(func2, x2)"
   ]
  },
  {
   "cell_type": "markdown",
   "id": "5ff02cd2-6be6-4a5a-97f5-98caa4b19ae4",
   "metadata": {},
   "source": [
    "## Create n-dimensional Newton's Method function"
   ]
  },
  {
   "cell_type": "code",
   "execution_count": 41,
   "id": "9b9f01b2-bde3-4f72-afa6-394665f25f50",
   "metadata": {},
   "outputs": [],
   "source": [
    "def Newton_system(F, J, x, eps):\n",
    "    \"\"\"\n",
    "    Solve nonlinear system F=0 by Newton's method.\n",
    "    J is the Jacobian of F. Both F and J must be functions of x.\n",
    "    At input, x holds the start value. The iteration continues\n",
    "    until ||F|| < eps.\n",
    "    \"\"\"\n",
    "    F_value = F(x)\n",
    "    F_norm = np.linalg.norm(F_value, ord=2)  # l2 norm of vector\n",
    "    iteration_counter = 0\n",
    "    while abs(F_norm) > eps and iteration_counter < 100:\n",
    "        delta = np.linalg.solve(J(x), -F_value)\n",
    "        x = x + delta\n",
    "        F_value = F(x)\n",
    "        F_norm = np.linalg.norm(F_value, ord=2)\n",
    "        iteration_counter += 1\n",
    "\n",
    "    # Here, either a solution is found, or too many iterations\n",
    "    if abs(F_norm) > eps:\n",
    "        iteration_counter = -1\n",
    "    return x, iteration_counter"
   ]
  },
  {
   "cell_type": "markdown",
   "id": "5df5920d-edf2-458d-8af5-e680cc3497dc",
   "metadata": {},
   "source": [
    "## Define $f(x)$ and the Gradient"
   ]
  },
  {
   "cell_type": "code",
   "execution_count": 42,
   "id": "555c7306-0765-462a-a6a9-a125e0395823",
   "metadata": {},
   "outputs": [],
   "source": [
    "def F(x):\n",
    "    return np.array([x[0]**2 - x[1]**2 - 1, \n",
    "                     5*x[0]**2 - x[1] - 2])"
   ]
  },
  {
   "cell_type": "code",
   "execution_count": 43,
   "id": "2633c33d-48af-478f-9da3-aa9e61af8309",
   "metadata": {},
   "outputs": [],
   "source": [
    "def J(x):\n",
    "    return np.array([[2*x[0], 2*x[1]], \n",
    "                     [10*x[0], -1]])"
   ]
  },
  {
   "cell_type": "markdown",
   "id": "b0032a49-1552-4601-be04-fbf81c75caad",
   "metadata": {},
   "source": [
    "## $x_0 = (1,1)^T$"
   ]
  },
  {
   "cell_type": "code",
   "execution_count": 44,
   "id": "1e15fbe7-6301-415a-ba3c-9f621f834ed7",
   "metadata": {},
   "outputs": [
    {
     "name": "stdout",
     "output_type": "stream",
     "text": [
      "-1 [2.95471797e+08 4.21818827e+17]\n"
     ]
    }
   ],
   "source": [
    "x, n = Newton_system(F, J, x=np.array([1, 1]), eps=1e-12)\n",
    "print(n, x)"
   ]
  },
  {
   "cell_type": "markdown",
   "id": "cd86f7f2-a3a2-40c8-9ac6-f378b25f1b96",
   "metadata": {},
   "source": [
    "## $x_0 = (1,-1)^T$"
   ]
  },
  {
   "cell_type": "code",
   "execution_count": 45,
   "id": "f546c72e-8750-4ad6-b323-f7e28df24122",
   "metadata": {},
   "outputs": [
    {
     "name": "stdout",
     "output_type": "stream",
     "text": [
      "-1 [ 4.08865859e+08 -6.73865283e+17]\n"
     ]
    }
   ],
   "source": [
    "x, n = Newton_system(F, J, x=np.array([1, -1]), eps=1e-12)\n",
    "print(n, x)"
   ]
  },
  {
   "cell_type": "markdown",
   "id": "fc0df8cd-89b7-4f82-a2bc-9c4a21b34f71",
   "metadata": {},
   "source": [
    "## $x_0 = (-1,1)^T$"
   ]
  },
  {
   "cell_type": "code",
   "execution_count": 46,
   "id": "253e0170-cb6c-4a46-911b-99f2bfcede8a",
   "metadata": {},
   "outputs": [
    {
     "name": "stdout",
     "output_type": "stream",
     "text": [
      "-1 [-2.95471797e+08  4.21818827e+17]\n"
     ]
    }
   ],
   "source": [
    "x, n = Newton_system(F, J, x=np.array([-1, 1]), eps=1e-12)\n",
    "print(n, x)"
   ]
  },
  {
   "cell_type": "markdown",
   "id": "97fbf314-8cbf-443a-9489-9134277b948e",
   "metadata": {},
   "source": [
    "## $x_0 = (-1,-1)^T$"
   ]
  },
  {
   "cell_type": "code",
   "execution_count": 47,
   "id": "2729ce66-ebec-4caf-b0e9-1d49c7fba9d4",
   "metadata": {},
   "outputs": [
    {
     "name": "stdout",
     "output_type": "stream",
     "text": [
      "-1 [-4.08865859e+08 -6.73865283e+17]\n"
     ]
    }
   ],
   "source": [
    "x, n = Newton_system(F, J, x=np.array([-1, -1]), eps=1e-12)\n",
    "print(n, x)"
   ]
  },
  {
   "cell_type": "markdown",
   "id": "fc72cd45-93cf-4088-b04e-0c54756ddbed",
   "metadata": {},
   "source": [
    "## $x_0 = (1,0)^T$"
   ]
  },
  {
   "cell_type": "code",
   "execution_count": 48,
   "id": "afb11d30-d123-4e71-9c0c-08b99dee90d4",
   "metadata": {},
   "outputs": [
    {
     "name": "stdout",
     "output_type": "stream",
     "text": [
      "-1 [3.98007047e+08 7.65377014e+17]\n"
     ]
    }
   ],
   "source": [
    "x, n = Newton_system(F, J, x=np.array([1, 0]), eps=1e-12)\n",
    "print(n, x)"
   ]
  }
 ],
 "metadata": {
  "kernelspec": {
   "display_name": "Anaconda (base)",
   "language": "python",
   "name": "anaconda-base"
  },
  "language_info": {
   "codemirror_mode": {
    "name": "ipython",
    "version": 3
   },
   "file_extension": ".py",
   "mimetype": "text/x-python",
   "name": "python",
   "nbconvert_exporter": "python",
   "pygments_lexer": "ipython3",
   "version": "3.9.7"
  }
 },
 "nbformat": 4,
 "nbformat_minor": 5
}
