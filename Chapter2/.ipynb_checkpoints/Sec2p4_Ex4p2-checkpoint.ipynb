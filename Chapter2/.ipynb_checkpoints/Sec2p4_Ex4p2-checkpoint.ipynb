{
 "cells": [
  {
   "cell_type": "markdown",
   "id": "445be5d5-5b6d-4e34-a57a-c785b03c96f3",
   "metadata": {},
   "source": [
    "# Chapter 2 Section 4 Exercise 4.2"
   ]
  },
  {
   "cell_type": "code",
   "execution_count": 6,
   "id": "4c9b5551-c002-46ea-b56b-7f4b256b7fdc",
   "metadata": {},
   "outputs": [
    {
     "name": "stdout",
     "output_type": "stream",
     "text": [
      "Last Updated on: 2022-05-07 17:22:17.863643\n"
     ]
    }
   ],
   "source": [
    "from datetime import datetime\n",
    "print(\"Last Updated on: \" + str(datetime.now()))"
   ]
  },
  {
   "cell_type": "markdown",
   "id": "334effcc-00d1-4bf5-9936-bffd7277c177",
   "metadata": {},
   "source": [
    "## Problem Statement\n",
    "\n",
    "Find all descent directions for the linear function $f(x) = x_1 - 2x_2 + 3x_3$. Does your answer depend on the value of x?"
   ]
  },
  {
   "cell_type": "markdown",
   "id": "b664dcbe-8828-4a2d-a564-0c13ef4cc867",
   "metadata": {},
   "source": [
    "## Import packages"
   ]
  },
  {
   "cell_type": "code",
   "execution_count": 7,
   "id": "4f513fd7-7135-458c-953c-4d042ec819da",
   "metadata": {},
   "outputs": [],
   "source": [
    "%matplotlib inline\n",
    "import matplotlib.pyplot as plt\n",
    "import numpy as np"
   ]
  },
  {
   "cell_type": "markdown",
   "id": "cffbc954-49ec-4593-b740-10eb83b9d59c",
   "metadata": {},
   "source": [
    "## Calculate the descent direction\n",
    "\n",
    "We'll use the gradient to calculate the descent direction."
   ]
  },
  {
   "cell_type": "code",
   "execution_count": 8,
   "id": "97526bdb-5dbe-42ba-87fb-cf9d81b79e76",
   "metadata": {},
   "outputs": [
    {
     "data": {
      "text/plain": [
       "array([-1,  2, -3])"
      ]
     },
     "execution_count": 8,
     "metadata": {},
     "output_type": "execute_result"
    }
   ],
   "source": [
    "c = np.array([1, -2, 3])\n",
    "des_dir = -c\n",
    "des_dir"
   ]
  },
  {
   "cell_type": "markdown",
   "id": "092a368f-c538-48b8-bfe6-5c9bc7f2d585",
   "metadata": {},
   "source": [
    "The answer doesn't depend on the value of x."
   ]
  }
 ],
 "metadata": {
  "kernelspec": {
   "display_name": "Anaconda (base)",
   "language": "python",
   "name": "anaconda-base"
  },
  "language_info": {
   "codemirror_mode": {
    "name": "ipython",
    "version": 3
   },
   "file_extension": ".py",
   "mimetype": "text/x-python",
   "name": "python",
   "nbconvert_exporter": "python",
   "pygments_lexer": "ipython3",
   "version": "3.9.7"
  }
 },
 "nbformat": 4,
 "nbformat_minor": 5
}
