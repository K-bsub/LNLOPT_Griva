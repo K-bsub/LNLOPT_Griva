{
 "cells": [
  {
   "cell_type": "markdown",
   "id": "d772cc96-7894-4aec-a739-ee2b75747e2c",
   "metadata": {},
   "source": [
    "# Chapter 2 Section 6 Exercise 6.4"
   ]
  },
  {
   "cell_type": "code",
   "execution_count": 33,
   "id": "7030ff6b-0417-49be-9a06-c252f1669e86",
   "metadata": {},
   "outputs": [
    {
     "name": "stdout",
     "output_type": "stream",
     "text": [
      "Last Updated on: 2022-05-12 14:49:15.772121\n"
     ]
    }
   ],
   "source": [
    "from datetime import datetime\n",
    "print(\"Last Updated on: \" + str(datetime.now()))"
   ]
  },
  {
   "cell_type": "markdown",
   "id": "3638c7b8-6baf-4c85-98b5-fa98ae27cf61",
   "metadata": {},
   "source": [
    "## Problem Statement\n",
    "\n",
    "Find the first three terms of the Taylor series for\n",
    "\n",
    "$$\n",
    "f(x_1,x_2) = 3x_1^4 -2x_1^3x_2 - 4x_1^2x_2^2 + 5x_1x_2^3 + 2x_2^4\n",
    "$$\n",
    "\n",
    "at the point\n",
    "\n",
    "$$\n",
    "x_0 = (1,-1)^T\n",
    "$$\n",
    "\n",
    "Evaluate the series for $p = (0.1,0.01)^T$ and compare with the value of $f(x_0+p)$."
   ]
  },
  {
   "cell_type": "markdown",
   "id": "4e3bc1f6-5ce9-4b02-b3c2-18f1ed68cd89",
   "metadata": {},
   "source": [
    "## Import packages"
   ]
  },
  {
   "cell_type": "code",
   "execution_count": 34,
   "id": "32e078c8-be6a-4e34-8743-44cd9ae2e59b",
   "metadata": {},
   "outputs": [],
   "source": [
    "from sympy import *\n",
    "import sympy"
   ]
  },
  {
   "cell_type": "markdown",
   "id": "f9d2dc2f-37a7-4238-a365-f2f124391e17",
   "metadata": {},
   "source": [
    "## Define variables"
   ]
  },
  {
   "cell_type": "code",
   "execution_count": 35,
   "id": "acbf00a7-78c2-4147-9470-08e6ac586129",
   "metadata": {},
   "outputs": [],
   "source": [
    "x1 = Symbol('x1')\n",
    "x2 = Symbol('x2')\n",
    "p1 = Symbol('p1')\n",
    "p2 = Symbol('p2')"
   ]
  },
  {
   "cell_type": "markdown",
   "id": "3409f227-aee7-4978-bd8f-09225a4f7cb8",
   "metadata": {},
   "source": [
    "## Define Function"
   ]
  },
  {
   "cell_type": "code",
   "execution_count": 36,
   "id": "66459b0a-a207-4d4f-9b97-00ed3fe7486c",
   "metadata": {},
   "outputs": [
    {
     "data": {
      "text/latex": [
       "$\\displaystyle 3 x_{1}^{4} - 2 x_{1}^{3} x_{2} - 4 x_{1}^{2} x_{2}^{2} + 5 x_{1} x_{2}^{3} + 2 x_{2}^{4}$"
      ],
      "text/plain": [
       "3*x1**4 - 2*x1**3*x2 - 4*x1**2*x2**2 + 5*x1*x2**3 + 2*x2**4"
      ]
     },
     "execution_count": 36,
     "metadata": {},
     "output_type": "execute_result"
    }
   ],
   "source": [
    "func = 3*x1**4 - 2*x1**3*x2 - 4*x1**2*x2**2 + 5*x1*x2**3 + 2*x2**4\n",
    "v = list(ordered(func.free_symbols)); v\n",
    "p = Matrix([p1, p2])\n",
    "func"
   ]
  },
  {
   "cell_type": "markdown",
   "id": "83689cb5-9556-47c4-a55e-87a0f81e54eb",
   "metadata": {},
   "source": [
    "## Calculate Gradient"
   ]
  },
  {
   "cell_type": "code",
   "execution_count": 37,
   "id": "29b55a12-2201-4feb-b305-4cf810e6506e",
   "metadata": {},
   "outputs": [
    {
     "data": {
      "text/latex": [
       "$\\displaystyle \\left[\\begin{matrix}12 x_{1}^{3} - 6 x_{1}^{2} x_{2} - 8 x_{1} x_{2}^{2} + 5 x_{2}^{3} & - 2 x_{1}^{3} - 8 x_{1}^{2} x_{2} + 15 x_{1} x_{2}^{2} + 8 x_{2}^{3}\\end{matrix}\\right]$"
      ],
      "text/plain": [
       "Matrix([[12*x1**3 - 6*x1**2*x2 - 8*x1*x2**2 + 5*x2**3, -2*x1**3 - 8*x1**2*x2 + 15*x1*x2**2 + 8*x2**3]])"
      ]
     },
     "execution_count": 37,
     "metadata": {},
     "output_type": "execute_result"
    }
   ],
   "source": [
    "gradient = lambda func, v: Matrix([func]).jacobian(v)\n",
    "grad = gradient(func, v)\n",
    "grad"
   ]
  },
  {
   "cell_type": "markdown",
   "id": "bb9ca5c0-e47b-4f42-ba63-ffabc79d4936",
   "metadata": {},
   "source": [
    "## Calculate Hessian"
   ]
  },
  {
   "cell_type": "code",
   "execution_count": 38,
   "id": "240c42be-c86d-4a6d-989d-26aef503c281",
   "metadata": {},
   "outputs": [
    {
     "data": {
      "text/latex": [
       "$\\displaystyle \\left[\\begin{matrix}36 x_{1}^{2} - 12 x_{1} x_{2} - 8 x_{2}^{2} & - 6 x_{1}^{2} - 16 x_{1} x_{2} + 15 x_{2}^{2}\\\\- 6 x_{1}^{2} - 16 x_{1} x_{2} + 15 x_{2}^{2} & - 8 x_{1}^{2} + 30 x_{1} x_{2} + 24 x_{2}^{2}\\end{matrix}\\right]$"
      ],
      "text/plain": [
       "Matrix([\n",
       "[ 36*x1**2 - 12*x1*x2 - 8*x2**2, -6*x1**2 - 16*x1*x2 + 15*x2**2],\n",
       "[-6*x1**2 - 16*x1*x2 + 15*x2**2, -8*x1**2 + 30*x1*x2 + 24*x2**2]])"
      ]
     },
     "execution_count": 38,
     "metadata": {},
     "output_type": "execute_result"
    }
   ],
   "source": [
    "hess = hessian(func, v)\n",
    "hess"
   ]
  },
  {
   "cell_type": "markdown",
   "id": "acf0c8f4-b71a-4574-a7fa-71e7f47a7f04",
   "metadata": {},
   "source": [
    "## Define Taylor Series equation"
   ]
  },
  {
   "cell_type": "code",
   "execution_count": 39,
   "id": "25ea7677-b8ed-4167-a0eb-16ec19cc9156",
   "metadata": {},
   "outputs": [
    {
     "data": {
      "text/latex": [
       "$\\displaystyle \\left[\\begin{matrix}p_{1} \\cdot \\left(0.5 p_{1} \\cdot \\left(36 x_{1}^{2} - 12 x_{1} x_{2} - 8 x_{2}^{2}\\right) + 0.5 p_{2} \\left(- 6 x_{1}^{2} - 16 x_{1} x_{2} + 15 x_{2}^{2}\\right)\\right) + p_{1} \\cdot \\left(12 x_{1}^{3} - 6 x_{1}^{2} x_{2} - 8 x_{1} x_{2}^{2} + 5 x_{2}^{3}\\right) + p_{2} \\cdot \\left(0.5 p_{1} \\left(- 6 x_{1}^{2} - 16 x_{1} x_{2} + 15 x_{2}^{2}\\right) + 0.5 p_{2} \\left(- 8 x_{1}^{2} + 30 x_{1} x_{2} + 24 x_{2}^{2}\\right)\\right) + p_{2} \\left(- 2 x_{1}^{3} - 8 x_{1}^{2} x_{2} + 15 x_{1} x_{2}^{2} + 8 x_{2}^{3}\\right) + 3 x_{1}^{4} - 2 x_{1}^{3} x_{2} - 4 x_{1}^{2} x_{2}^{2} + 5 x_{1} x_{2}^{3} + 2 x_{2}^{4}\\end{matrix}\\right]$"
      ],
      "text/plain": [
       "Matrix([[p1*(0.5*p1*(36*x1**2 - 12*x1*x2 - 8*x2**2) + 0.5*p2*(-6*x1**2 - 16*x1*x2 + 15*x2**2)) + p1*(12*x1**3 - 6*x1**2*x2 - 8*x1*x2**2 + 5*x2**3) + p2*(0.5*p1*(-6*x1**2 - 16*x1*x2 + 15*x2**2) + 0.5*p2*(-8*x1**2 + 30*x1*x2 + 24*x2**2)) + p2*(-2*x1**3 - 8*x1**2*x2 + 15*x1*x2**2 + 8*x2**3) + 3*x1**4 - 2*x1**3*x2 - 4*x1**2*x2**2 + 5*x1*x2**3 + 2*x2**4]])"
      ]
     },
     "execution_count": 39,
     "metadata": {},
     "output_type": "execute_result"
    }
   ],
   "source": [
    "TS = Matrix([func]) + p.T*grad.T + 0.5*p.T*hess.T*p\n",
    "TS"
   ]
  },
  {
   "cell_type": "markdown",
   "id": "21cea0ee-9c08-4e26-b8a6-e5af6b29e68d",
   "metadata": {},
   "source": [
    "# Evaluate the Taylor Series"
   ]
  },
  {
   "cell_type": "code",
   "execution_count": 40,
   "id": "929c01af-c05f-4d4c-8a00-43f73318f133",
   "metadata": {},
   "outputs": [
    {
     "data": {
      "text/latex": [
       "$\\displaystyle \\left[\\begin{matrix}-1.1457\\end{matrix}\\right]$"
      ],
      "text/plain": [
       "Matrix([[-1.1457]])"
      ]
     },
     "execution_count": 40,
     "metadata": {},
     "output_type": "execute_result"
    }
   ],
   "source": [
    "TS.subs([(x1,1),(x2,-1),(p1,0.1),(p2,0.01)])"
   ]
  },
  {
   "cell_type": "code",
   "execution_count": 41,
   "id": "4113b6c0-e4b0-4ce7-aad6-71b929559210",
   "metadata": {},
   "outputs": [
    {
     "data": {
      "text/latex": [
       "$\\displaystyle -2$"
      ],
      "text/plain": [
       "-2"
      ]
     },
     "execution_count": 41,
     "metadata": {},
     "output_type": "execute_result"
    }
   ],
   "source": [
    "func.subs([(x1,1),(x2,-1)])"
   ]
  }
 ],
 "metadata": {
  "kernelspec": {
   "display_name": "Anaconda (base)",
   "language": "python",
   "name": "anaconda-base"
  },
  "language_info": {
   "codemirror_mode": {
    "name": "ipython",
    "version": 3
   },
   "file_extension": ".py",
   "mimetype": "text/x-python",
   "name": "python",
   "nbconvert_exporter": "python",
   "pygments_lexer": "ipython3",
   "version": "3.9.7"
  }
 },
 "nbformat": 4,
 "nbformat_minor": 5
}
