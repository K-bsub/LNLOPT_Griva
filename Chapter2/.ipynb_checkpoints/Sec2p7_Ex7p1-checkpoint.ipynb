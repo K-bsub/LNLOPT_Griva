{
 "cells": [
  {
   "cell_type": "markdown",
   "id": "2ef88d8c-3c90-40a9-8a0a-0d4f20acc929",
   "metadata": {},
   "source": [
    "# Chapter 2 Section 7 Exercise 7.1"
   ]
  },
  {
   "cell_type": "code",
   "execution_count": 35,
   "id": "f8c77e6f-5ebe-4243-9db8-2d39f5952ac8",
   "metadata": {},
   "outputs": [
    {
     "name": "stdout",
     "output_type": "stream",
     "text": [
      "Last Updated on: 2022-05-14 12:23:17.942499\n"
     ]
    }
   ],
   "source": [
    "from datetime import datetime\n",
    "print(\"Last Updated on: \" + str(datetime.now()))"
   ]
  },
  {
   "cell_type": "markdown",
   "id": "bb69d84c-ef19-4a6f-9c0d-25e254e9d516",
   "metadata": {},
   "source": [
    "## Problem Statement\n",
    "\n",
    "Apply Newton's method to find all three solutions of \n",
    "\n",
    "$$\n",
    "f(x) = x^3 - 5x^2 - 12x + 19 = 0\n",
    "$$"
   ]
  },
  {
   "cell_type": "markdown",
   "id": "abb44d8e-f1ad-4859-b932-3f243ac7edec",
   "metadata": {},
   "source": [
    "## Import packages"
   ]
  },
  {
   "cell_type": "code",
   "execution_count": 36,
   "id": "28a2d57c-a51e-42d1-b38e-5abb11a0b0f9",
   "metadata": {},
   "outputs": [],
   "source": [
    "import math\n",
    "from tabulate import tabulate\n",
    "%matplotlib inline\n",
    "import matplotlib.pyplot as plt"
   ]
  },
  {
   "cell_type": "markdown",
   "id": "8f54548e-14e3-4295-8ffe-677f589262e9",
   "metadata": {},
   "source": [
    "## Define $f(x)$"
   ]
  },
  {
   "cell_type": "code",
   "execution_count": 37,
   "id": "eba487b4-557e-4b5c-815a-236f596b30e8",
   "metadata": {},
   "outputs": [],
   "source": [
    "def fx(x):\n",
    "    return x**3 - 5*x**2 - 12*x + 19"
   ]
  },
  {
   "cell_type": "markdown",
   "id": "f656aa64-781b-4020-979e-339fc17ceff7",
   "metadata": {},
   "source": [
    "## Define $f^{'}(x)$"
   ]
  },
  {
   "cell_type": "code",
   "execution_count": 38,
   "id": "8e9db1b1-62a5-4587-b5ab-2640e4f3f00d",
   "metadata": {},
   "outputs": [],
   "source": [
    "def fdashx(x):\n",
    "    return 3*x**2 - 10*x -12"
   ]
  },
  {
   "cell_type": "markdown",
   "id": "fc37185b-bbb9-456f-a079-ff9be2360ec9",
   "metadata": {},
   "source": [
    "## Define Newton's Method"
   ]
  },
  {
   "cell_type": "code",
   "execution_count": 39,
   "id": "a9e495a4-3018-491d-ac1c-f3c90f0bdc40",
   "metadata": {},
   "outputs": [],
   "source": [
    "def newton_method(xprev,epsilon,iterNum):\n",
    "    ValItErr = math.inf\n",
    "    it = 0\n",
    "    print_data = [[it, xprev, fx(xprev), ValItErr]]\n",
    "    while it<=iterNum and ValItErr > epsilon:\n",
    "        xnext = xprev - fx(xprev)/fdashx(xprev)\n",
    "        ValItErr = abs(fx(xnext) - fx(xprev))\n",
    "        xprev = xnext\n",
    "        it += 1\n",
    "        print_data.append([it, xnext, fx(xnext), ValItErr])\n",
    "    return print(tabulate(print_data, headers=[\"Iteration\", \"x_k\", \"f(x_k)\", \"Error\"]))"
   ]
  },
  {
   "cell_type": "markdown",
   "id": "a393162d-6b01-41f8-845d-6d54b1bfd931",
   "metadata": {},
   "source": [
    "## Plot function to determine initial guesses"
   ]
  },
  {
   "cell_type": "code",
   "execution_count": 40,
   "id": "1ef103ac-197a-4714-92e1-81cf1ecf4655",
   "metadata": {},
   "outputs": [],
   "source": [
    "X = [*range(-10000,10001,1)]\n",
    "f = []\n",
    "for x in X:\n",
    "    f.append(fx(x))"
   ]
  },
  {
   "cell_type": "code",
   "execution_count": 41,
   "id": "cf7a2d9e-8dad-45d5-a088-db66948c6478",
   "metadata": {},
   "outputs": [
    {
     "data": {
      "image/png": "[encoded data removed]",
      "text/plain": [
       "<Figure size 864x504 with 1 Axes>"
      ]
     },
     "metadata": {
      "needs_background": "light"
     },
     "output_type": "display_data"
    }
   ],
   "source": [
    "fig, ax = plt.subplots(figsize=(12, 7))\n",
    "ax.grid(color='grey', linestyle='-', linewidth=0.25, alpha=0.5)\n",
    "ax.plot(X, f, color=\"#8C7298\")\n",
    "plt.xlabel('x')\n",
    "plt.ylabel('f')\n",
    "plt.show()"
   ]
  },
  {
   "cell_type": "markdown",
   "id": "aa7844a7-86f0-4760-9c5d-31819458e118",
   "metadata": {},
   "source": [
    "Based on the plot, there might be 3 starting guesses to consider: $x_0 = -2500, 0, 2500$. "
   ]
  },
  {
   "cell_type": "markdown",
   "id": "b6392fe0-16ae-43ae-b48b-87ae8ea49255",
   "metadata": {},
   "source": [
    "## Newton's method for Initial guesses\n",
    "\n",
    "### Define Max Iterations and Accuracy"
   ]
  },
  {
   "cell_type": "code",
   "execution_count": 42,
   "id": "85c2484b-65b6-430d-bc60-7e397ae89d16",
   "metadata": {},
   "outputs": [],
   "source": [
    "iterNum = 10000\n",
    "epsilon = 1e-12"
   ]
  },
  {
   "cell_type": "markdown",
   "id": "3b25e7ef-cee6-4dbe-a1b5-a95c657d00c6",
   "metadata": {},
   "source": [
    "### $x_0 = -2500$"
   ]
  },
  {
   "cell_type": "code",
   "execution_count": 43,
   "id": "8e3e33ac-80af-4f56-bbd7-9326ab03a48a",
   "metadata": {},
   "outputs": [
    {
     "name": "stdout",
     "output_type": "stream",
     "text": [
      "  Iteration          x_k             f(x_k)             Error\n",
      "-----------  -----------  -----------------  ----------------\n",
      "          0  -2500             -1.56562e+10     inf\n",
      "          1  -1666.11          -4.63888e+09       1.10173e+10\n",
      "          2  -1110.19          -1.37448e+09       3.2644e+09\n",
      "          3   -739.575         -4.07251e+08       9.67228e+08\n",
      "          4   -492.5           -1.20666e+08       2.86585e+08\n",
      "          5   -327.787         -3.57521e+07       8.49138e+07\n",
      "          6   -217.983         -1.05927e+07       2.51594e+07\n",
      "          7   -144.787         -3.13826e+06       7.45447e+06\n",
      "          8    -95.9997   -929637                 2.20862e+06\n",
      "          9    -63.4902   -275303            654333\n",
      "         10    -41.8399    -81475.7          193828\n",
      "         11    -27.4401    -24077.8           57397.9\n",
      "         12    -17.8903     -7092.63          16985.2\n",
      "         13    -11.5974     -2074.18           5018.45\n",
      "         14     -7.51014     -596.478          1477.7\n",
      "         15     -4.94253     -164.571           431.907\n",
      "         16     -3.45603      -40.5277          124.044\n",
      "         17     -2.76198       -7.06863          33.459\n",
      "         18     -2.5784        -0.441549          6.62709\n",
      "         19     -2.56531       -0.00218034        0.439369\n",
      "         20     -2.56524       -5.4117e-08        0.00218029\n",
      "         21     -2.56524        0                 5.4117e-08\n",
      "         22     -2.56524        0                 0\n"
     ]
    }
   ],
   "source": [
    "xprev = -2500\n",
    "newton_method(xprev,epsilon,iterNum)"
   ]
  },
  {
   "cell_type": "markdown",
   "id": "2ce984be-db46-4066-8d75-69b41ecb84bf",
   "metadata": {},
   "source": [
    "With a large negative initial guess, the function evaluates to $0$ at $x_{k} = -2.5624$."
   ]
  },
  {
   "cell_type": "markdown",
   "id": "732d97d5-da4a-4f81-8bca-2bb732ac5e6e",
   "metadata": {},
   "source": [
    "### $x_0 = 2500$"
   ]
  },
  {
   "cell_type": "code",
   "execution_count": 44,
   "id": "a27f2ed4-444c-405b-9e93-65976cc6ca26",
   "metadata": {},
   "outputs": [
    {
     "name": "stdout",
     "output_type": "stream",
     "text": [
      "  Iteration         x_k            f(x_k)             Error\n",
      "-----------  ----------  ----------------  ----------------\n",
      "          0  2500             1.55937e+10     inf\n",
      "          1  1667.22          4.62036e+09       1.09734e+10\n",
      "          2  1112.04          1.36899e+09       3.25137e+09\n",
      "          3   741.92          4.05626e+08       9.63367e+08\n",
      "          4   495.175         1.20184e+08       2.85441e+08\n",
      "          5   330.682         3.56094e+07       8.45749e+07\n",
      "          6   221.024         1.05504e+07       2.5059e+07\n",
      "          7   147.925         3.12572e+06       7.42472e+06\n",
      "          8    99.2035   925917                 2.19981e+06\n",
      "          9    66.7379   274196            651721\n",
      "         10    45.1179    81142.5          193054\n",
      "         11    30.7403    23973.9           57168.6\n",
      "         12    21.2099     7056.62          16917.3\n",
      "         13    14.94       2058.34           4998.27\n",
      "         14    10.8898      586.771          1471.57\n",
      "         15     8.3914      157.111           429.659\n",
      "         16     7.02916      34.9093          122.202\n",
      "         17     6.49972       4.36109          30.5482\n",
      "         18     6.41205       0.110778          4.25031\n",
      "         19     6.4097        7.83305e-05       0.1107\n",
      "         20     6.4097        3.92362e-11       7.83305e-05\n",
      "         21     6.4097       -2.84217e-14       3.92646e-11\n",
      "         22     6.4097        4.26326e-14       7.10543e-14\n"
     ]
    }
   ],
   "source": [
    "xprev = 2500\n",
    "newton_method(xprev,epsilon,iterNum)"
   ]
  },
  {
   "cell_type": "markdown",
   "id": "627eae90-58bd-4a1c-ad03-0de6d25b9af8",
   "metadata": {},
   "source": [
    "With a large positive initial guess, the function evaluates to $0$ at $x_{k} = 6.4097$."
   ]
  },
  {
   "cell_type": "markdown",
   "id": "43315202-5f2f-45e9-b07b-8d8bba258973",
   "metadata": {},
   "source": [
    "### $x_0 = 0$"
   ]
  },
  {
   "cell_type": "code",
   "execution_count": 45,
   "id": "7959244e-d937-426e-bc62-ae85f4ec20f8",
   "metadata": {},
   "outputs": [
    {
     "name": "stdout",
     "output_type": "stream",
     "text": [
      "  Iteration      x_k        f(x_k)          Error\n",
      "-----------  -------  ------------  -------------\n",
      "          0  0        19            inf\n",
      "          1  1.58333  -8.56539       27.5654\n",
      "          2  1.16165  -0.119435       8.44596\n",
      "          3  1.15555  -5.6667e-05     0.119378\n",
      "          4  1.15555  -1.28857e-11    5.6667e-05\n",
      "          5  1.15555   0              1.28857e-11\n",
      "          6  1.15555   0              0\n"
     ]
    }
   ],
   "source": [
    "xprev = 0\n",
    "newton_method(xprev,epsilon,iterNum)"
   ]
  },
  {
   "cell_type": "markdown",
   "id": "7071899e-b49b-4083-b901-f3e58e2aac77",
   "metadata": {},
   "source": [
    "With an initial guess of $0$, the function evaluates to $0$ at $x_{k} = 1.15555$."
   ]
  }
 ],
 "metadata": {
  "kernelspec": {
   "display_name": "Anaconda (base)",
   "language": "python",
   "name": "anaconda-base"
  },
  "language_info": {
   "codemirror_mode": {
    "name": "ipython",
    "version": 3
   },
   "file_extension": ".py",
   "mimetype": "text/x-python",
   "name": "python",
   "nbconvert_exporter": "python",
   "pygments_lexer": "ipython3",
   "version": "3.9.7"
  }
 },
 "nbformat": 4,
 "nbformat_minor": 5
}
