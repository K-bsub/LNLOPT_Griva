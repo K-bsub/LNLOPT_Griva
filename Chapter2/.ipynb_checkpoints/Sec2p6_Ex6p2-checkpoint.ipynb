{
 "cells": [
  {
   "cell_type": "markdown",
   "id": "27251e20-9253-4978-be1e-3324d7a602ea",
   "metadata": {},
   "source": [
    "# Chapter 2 Section 6 Exercise 6.2"
   ]
  },
  {
   "cell_type": "code",
   "execution_count": 29,
   "id": "d7fe00a2-0428-41d5-9970-d5412f905ad9",
   "metadata": {},
   "outputs": [
    {
     "name": "stdout",
     "output_type": "stream",
     "text": [
      "Last Updated on: 2022-05-11 15:48:09.477790\n"
     ]
    }
   ],
   "source": [
    "from datetime import datetime\n",
    "print(\"Last Updated on: \" + str(datetime.now()))"
   ]
  },
  {
   "cell_type": "markdown",
   "id": "bc1a9908-68ea-465f-83ac-875387efee4a",
   "metadata": {},
   "source": [
    "## Problem Statement\n",
    "\n",
    "Find the first three terms of the Taylor series for the functions:\n",
    "\n",
    "1. $f(x) = sin(x)$ about the point $x_0 = \\pi$.\n",
    "2. $f(x) = \\frac{2}{3x+5}$ about the point $x_0 = -1$.\n",
    "3. $f(x) = e^{x}$ about the point $x_0 = 0$."
   ]
  },
  {
   "cell_type": "markdown",
   "id": "58063442-2736-43c9-8255-390afa98507f",
   "metadata": {},
   "source": [
    "# Import packages"
   ]
  },
  {
   "cell_type": "code",
   "execution_count": 30,
   "id": "d5b08497-721b-4eb0-93e7-ace5711abed7",
   "metadata": {},
   "outputs": [],
   "source": [
    "import math\n",
    "from sympy import *\n",
    "x = Symbol('x')\n",
    "p = Symbol('p')"
   ]
  },
  {
   "cell_type": "markdown",
   "id": "ea19ac96-6325-4663-bae8-03e89ab5739e",
   "metadata": {},
   "source": [
    "# $f(x) = sin(x)$ about the point $x_0 = \\pi$\n",
    "\n",
    "## Define the function"
   ]
  },
  {
   "cell_type": "code",
   "execution_count": 31,
   "id": "4ffe7f3a-b72d-4baa-bbdc-592a82f626df",
   "metadata": {},
   "outputs": [
    {
     "data": {
      "text/latex": [
       "$\\displaystyle \\sin{\\left(x \\right)}$"
      ],
      "text/plain": [
       "sin(x)"
      ]
     },
     "execution_count": 31,
     "metadata": {},
     "output_type": "execute_result"
    }
   ],
   "source": [
    "func = sin(x)\n",
    "func"
   ]
  },
  {
   "cell_type": "markdown",
   "id": "78647661-b3aa-42d9-a60d-122b90121b51",
   "metadata": {},
   "source": [
    "## Define Taylor series expansion"
   ]
  },
  {
   "cell_type": "code",
   "execution_count": 32,
   "id": "df2ca2f5-d1e6-4081-af4f-f059a010e968",
   "metadata": {},
   "outputs": [
    {
     "data": {
      "text/latex": [
       "$\\displaystyle - 0.5 p^{2} \\sin{\\left(x \\right)} + p \\cos{\\left(x \\right)} + \\sin{\\left(x \\right)}$"
      ],
      "text/plain": [
       "-0.5*p**2*sin(x) + p*cos(x) + sin(x)"
      ]
     },
     "execution_count": 32,
     "metadata": {},
     "output_type": "execute_result"
    }
   ],
   "source": [
    "TS_1 = func + p*diff(func,x) + 0.5*p**2*diff(func,x,x)\n",
    "TS_1"
   ]
  },
  {
   "cell_type": "markdown",
   "id": "53bd7b2a-bb81-44cd-8f9c-b6c3bd4408ff",
   "metadata": {},
   "source": [
    "## Evaluate Taylor series.\n",
    "\n",
    "We will use values of $p = 0.1$ and $x = \\pi$."
   ]
  },
  {
   "cell_type": "code",
   "execution_count": 33,
   "id": "6dc21d49-0001-40a5-87ee-5edc57082ab3",
   "metadata": {},
   "outputs": [
    {
     "data": {
      "text/latex": [
       "$\\displaystyle -0.0999999999999999$"
      ],
      "text/plain": [
       "-0.0999999999999999"
      ]
     },
     "execution_count": 33,
     "metadata": {},
     "output_type": "execute_result"
    }
   ],
   "source": [
    "TS_1.subs([(x, math.pi), (p, 0.1)])"
   ]
  },
  {
   "cell_type": "markdown",
   "id": "05475007-d2d4-4a89-88d5-82b8168721d7",
   "metadata": {},
   "source": [
    "For $p = 0.01$,"
   ]
  },
  {
   "cell_type": "code",
   "execution_count": 34,
   "id": "5629da10-672c-41eb-876a-b321129d24b8",
   "metadata": {},
   "outputs": [
    {
     "data": {
      "text/latex": [
       "$\\displaystyle -0.00999999999999988$"
      ],
      "text/plain": [
       "-0.00999999999999988"
      ]
     },
     "execution_count": 34,
     "metadata": {},
     "output_type": "execute_result"
    }
   ],
   "source": [
    "TS_1.subs([(x, math.pi), (p, 0.01)])"
   ]
  },
  {
   "cell_type": "markdown",
   "id": "1a0bbb4a-d7f0-4005-bc1e-22ee088970fe",
   "metadata": {},
   "source": [
    "For $p = 1$,"
   ]
  },
  {
   "cell_type": "code",
   "execution_count": 35,
   "id": "9d52046b-4aee-4a75-b1f3-a480ab4762e2",
   "metadata": {},
   "outputs": [
    {
     "data": {
      "text/latex": [
       "$\\displaystyle -1.0$"
      ],
      "text/plain": [
       "-1.00000000000000"
      ]
     },
     "execution_count": 35,
     "metadata": {},
     "output_type": "execute_result"
    }
   ],
   "source": [
    "TS_1.subs([(x, math.pi), (p, 1)])"
   ]
  },
  {
   "cell_type": "code",
   "execution_count": 36,
   "id": "bdad688c-4084-48ea-8e8d-22639cfe2da2",
   "metadata": {},
   "outputs": [
    {
     "data": {
      "text/latex": [
       "$\\displaystyle 1.22464679914735 \\cdot 10^{-16}$"
      ],
      "text/plain": [
       "1.22464679914735e-16"
      ]
     },
     "execution_count": 36,
     "metadata": {},
     "output_type": "execute_result"
    }
   ],
   "source": [
    "func.subs(x,math.pi)"
   ]
  },
  {
   "cell_type": "markdown",
   "id": "a058d173-f2aa-4b9c-aaba-5e729b2c56ad",
   "metadata": {},
   "source": [
    "# $f(x) = \\frac{2}{3x+5}$ about the point $x_0 = -1$\n",
    "\n",
    "## Define function"
   ]
  },
  {
   "cell_type": "code",
   "execution_count": 37,
   "id": "c453f783-65dd-49e6-b19d-0e751c921150",
   "metadata": {},
   "outputs": [
    {
     "data": {
      "text/latex": [
       "$\\displaystyle \\frac{2}{3 x + 5}$"
      ],
      "text/plain": [
       "2/(3*x + 5)"
      ]
     },
     "execution_count": 37,
     "metadata": {},
     "output_type": "execute_result"
    }
   ],
   "source": [
    "func = 2/(3*x+5)\n",
    "func"
   ]
  },
  {
   "cell_type": "markdown",
   "id": "8b2a9eb1-afff-4e8b-83ac-b5702f518c47",
   "metadata": {},
   "source": [
    "## Define Taylor series expansion"
   ]
  },
  {
   "cell_type": "code",
   "execution_count": 38,
   "id": "6728f075-2344-4c15-922d-220dc80b60f3",
   "metadata": {},
   "outputs": [
    {
     "data": {
      "text/latex": [
       "$\\displaystyle \\frac{18.0 p^{2}}{\\left(3 x + 5\\right)^{3}} - \\frac{6 p}{\\left(3 x + 5\\right)^{2}} + \\frac{2}{3 x + 5}$"
      ],
      "text/plain": [
       "18.0*p**2/(3*x + 5)**3 - 6*p/(3*x + 5)**2 + 2/(3*x + 5)"
      ]
     },
     "execution_count": 38,
     "metadata": {},
     "output_type": "execute_result"
    }
   ],
   "source": [
    "TS_1 = func + p*diff(func,x) + 0.5*p**2*diff(func,x,x)\n",
    "TS_1"
   ]
  },
  {
   "cell_type": "markdown",
   "id": "e8ff2aa3-9377-4ee8-aab0-70cb06e57510",
   "metadata": {},
   "source": [
    "## Evaluate Taylor series.\n",
    "\n",
    "We will use values of $p = 0.1$ and $x = -1$."
   ]
  },
  {
   "cell_type": "code",
   "execution_count": 39,
   "id": "30668d3b-6606-42f8-9afe-a487b522591c",
   "metadata": {},
   "outputs": [
    {
     "data": {
      "text/latex": [
       "$\\displaystyle 0.8725$"
      ],
      "text/plain": [
       "0.872500000000000"
      ]
     },
     "execution_count": 39,
     "metadata": {},
     "output_type": "execute_result"
    }
   ],
   "source": [
    "TS_1.subs([(x, -1), (p, 0.1)])"
   ]
  },
  {
   "cell_type": "markdown",
   "id": "b764b7ea-6c53-40a9-b154-2deb5d31bae0",
   "metadata": {},
   "source": [
    "For $p = 0.01$,"
   ]
  },
  {
   "cell_type": "code",
   "execution_count": 40,
   "id": "0d23eaaa-689e-4664-ad2a-ffd14b0efe00",
   "metadata": {},
   "outputs": [
    {
     "data": {
      "text/latex": [
       "$\\displaystyle 0.985225$"
      ],
      "text/plain": [
       "0.985225000000000"
      ]
     },
     "execution_count": 40,
     "metadata": {},
     "output_type": "execute_result"
    }
   ],
   "source": [
    "TS_1.subs([(x, -1), (p, 0.01)])"
   ]
  },
  {
   "cell_type": "code",
   "execution_count": 41,
   "id": "a0f37165-b753-4d0a-b2db-0e75cb8e5a34",
   "metadata": {},
   "outputs": [
    {
     "data": {
      "text/latex": [
       "$\\displaystyle 1$"
      ],
      "text/plain": [
       "1"
      ]
     },
     "execution_count": 41,
     "metadata": {},
     "output_type": "execute_result"
    }
   ],
   "source": [
    "func.subs(x,-1)"
   ]
  },
  {
   "cell_type": "markdown",
   "id": "11db5fb0-faf6-47ca-a088-1aedb0072961",
   "metadata": {},
   "source": [
    "# $f(x) = e^{x}$ about the point $x_0 = 0$\n",
    "\n",
    "## Define function"
   ]
  },
  {
   "cell_type": "code",
   "execution_count": 42,
   "id": "0d2af6e4-61ef-415a-8978-73b60cd8d186",
   "metadata": {},
   "outputs": [
    {
     "data": {
      "text/latex": [
       "$\\displaystyle e^{x}$"
      ],
      "text/plain": [
       "exp(x)"
      ]
     },
     "execution_count": 42,
     "metadata": {},
     "output_type": "execute_result"
    }
   ],
   "source": [
    "func = exp(x)\n",
    "func"
   ]
  },
  {
   "cell_type": "markdown",
   "id": "9c91c928-68a7-4128-a919-f1f84d46660d",
   "metadata": {},
   "source": [
    "## Define Taylor series expansion"
   ]
  },
  {
   "cell_type": "code",
   "execution_count": 43,
   "id": "594ff6cf-242a-4ea7-af82-354f39581f5c",
   "metadata": {},
   "outputs": [
    {
     "data": {
      "text/latex": [
       "$\\displaystyle 0.5 p^{2} e^{x} + p e^{x} + e^{x}$"
      ],
      "text/plain": [
       "0.5*p**2*exp(x) + p*exp(x) + exp(x)"
      ]
     },
     "execution_count": 43,
     "metadata": {},
     "output_type": "execute_result"
    }
   ],
   "source": [
    "TS_1 = func + p*diff(func,x) + 0.5*p**2*diff(func,x,x)\n",
    "TS_1"
   ]
  },
  {
   "cell_type": "markdown",
   "id": "472217bf-6282-4f6c-bc84-79151afc24e3",
   "metadata": {},
   "source": [
    "## Evaluate Taylor series.\n",
    "\n",
    "We will use values of $p = 0.1$ and $x = 0$."
   ]
  },
  {
   "cell_type": "code",
   "execution_count": 44,
   "id": "ac1cda86-2525-4b18-9a64-c5ff11ded116",
   "metadata": {},
   "outputs": [
    {
     "data": {
      "text/latex": [
       "$\\displaystyle 1.105$"
      ],
      "text/plain": [
       "1.10500000000000"
      ]
     },
     "execution_count": 44,
     "metadata": {},
     "output_type": "execute_result"
    }
   ],
   "source": [
    "TS_1.subs([(x, 0), (p, 0.1)])"
   ]
  },
  {
   "cell_type": "markdown",
   "id": "3460e529-eeae-41bd-ba2a-7c3df9e79aa5",
   "metadata": {},
   "source": [
    "For $p = 0.01$,"
   ]
  },
  {
   "cell_type": "code",
   "execution_count": 45,
   "id": "421a895b-2951-410d-9542-38e57f7f52ac",
   "metadata": {},
   "outputs": [
    {
     "data": {
      "text/latex": [
       "$\\displaystyle 1.01005$"
      ],
      "text/plain": [
       "1.01005000000000"
      ]
     },
     "execution_count": 45,
     "metadata": {},
     "output_type": "execute_result"
    }
   ],
   "source": [
    "TS_1.subs([(x, 0), (p, 0.01)])"
   ]
  },
  {
   "cell_type": "code",
   "execution_count": 46,
   "id": "e47e75ec-6a39-4800-a2f6-6bf374e714a0",
   "metadata": {},
   "outputs": [
    {
     "data": {
      "text/latex": [
       "$\\displaystyle 1$"
      ],
      "text/plain": [
       "1"
      ]
     },
     "execution_count": 46,
     "metadata": {},
     "output_type": "execute_result"
    }
   ],
   "source": [
    "exp(0)"
   ]
  }
 ],
 "metadata": {
  "kernelspec": {
   "display_name": "Anaconda (base)",
   "language": "python",
   "name": "anaconda-base"
  },
  "language_info": {
   "codemirror_mode": {
    "name": "ipython",
    "version": 3
   },
   "file_extension": ".py",
   "mimetype": "text/x-python",
   "name": "python",
   "nbconvert_exporter": "python",
   "pygments_lexer": "ipython3",
   "version": "3.9.7"
  }
 },
 "nbformat": 4,
 "nbformat_minor": 5
}
