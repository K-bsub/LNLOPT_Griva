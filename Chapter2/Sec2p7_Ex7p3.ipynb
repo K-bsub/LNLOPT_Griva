{
 "cells": [
  {
   "cell_type": "markdown",
   "id": "2bc8ee73-0175-4f0b-a454-9404c97e0b45",
   "metadata": {},
   "source": [
    "# Chapter 2 Section 7 Exercise 7.3"
   ]
  },
  {
   "cell_type": "code",
   "execution_count": 21,
   "id": "16e88091-4398-4598-9a7d-942871657506",
   "metadata": {},
   "outputs": [
    {
     "name": "stdout",
     "output_type": "stream",
     "text": [
      "Last Updated on: 2022-05-14 12:59:12.902029\n"
     ]
    }
   ],
   "source": [
    "from datetime import datetime\n",
    "print(\"Last Updated on: \" + str(datetime.now()))"
   ]
  },
  {
   "cell_type": "markdown",
   "id": "d103cbd7-4aad-4d32-83f3-f879eaed6acc",
   "metadata": {},
   "source": [
    "## Problem Statement\n",
    "\n",
    "Apply Newton's method to\n",
    "\n",
    "$$\n",
    "f(x) = (x-2)^4 + (x-2)^5\n",
    "$$\n",
    "\n",
    "with initial guess $x_0 = 3$. Observe the rate constant to be $\\frac{3}{4}$.\n",
    "\n",
    "Apply the iterative method\n",
    "\n",
    "$$\n",
    "x_{k+1} = x_k - 4\\frac{f(x_k)}{f^{'}(x_k)}\n",
    "$$\n",
    "\n",
    "and determine the rate constant."
   ]
  },
  {
   "cell_type": "markdown",
   "id": "701179ef-f171-4153-9466-2f9d9fe6a5e8",
   "metadata": {},
   "source": [
    "## Import packages"
   ]
  },
  {
   "cell_type": "code",
   "execution_count": 22,
   "id": "9b84b869-0aa2-4d4f-8ac9-1a61c1648121",
   "metadata": {},
   "outputs": [],
   "source": [
    "import math\n",
    "from tabulate import tabulate"
   ]
  },
  {
   "cell_type": "markdown",
   "id": "4520cdce-de11-47d8-b461-c267880e30e2",
   "metadata": {},
   "source": [
    "## Define $f(x)$"
   ]
  },
  {
   "cell_type": "code",
   "execution_count": 23,
   "id": "76a580fb-6c24-4aa1-998f-6dbe4a40494d",
   "metadata": {},
   "outputs": [],
   "source": [
    "def fx(x):\n",
    "    return (x-2)**4 + (x-2)**5"
   ]
  },
  {
   "cell_type": "markdown",
   "id": "8d5fb46e-c24e-4fa2-85c3-47cbe62dc0de",
   "metadata": {},
   "source": [
    "## Define $f^{'}(x)$"
   ]
  },
  {
   "cell_type": "code",
   "execution_count": 24,
   "id": "2b067290-ce58-443c-af05-ae2fbc265eb3",
   "metadata": {},
   "outputs": [],
   "source": [
    "def fdashx(x):\n",
    "    return 4*(x-2)**3 + 5*(x-2)**4"
   ]
  },
  {
   "cell_type": "markdown",
   "id": "eb6e283c-07a7-4d07-8728-eb84a287c3c2",
   "metadata": {},
   "source": [
    "## Define $f^{\"}(x)$"
   ]
  },
  {
   "cell_type": "code",
   "execution_count": 25,
   "id": "1bd956b3-cec4-4143-b052-688736d78b50",
   "metadata": {},
   "outputs": [],
   "source": [
    "def fddashx(x):\n",
    "    return 12*(x-2)**2 + 20*(x-2)**3"
   ]
  },
  {
   "cell_type": "markdown",
   "id": "e18434fc-bf6c-43a5-965e-448f6a90ed52",
   "metadata": {},
   "source": [
    "## Define Newton's Method"
   ]
  },
  {
   "cell_type": "code",
   "execution_count": 26,
   "id": "b4484da5-7bb7-484a-9026-dab9f6cef7be",
   "metadata": {},
   "outputs": [],
   "source": [
    "def newton_method(xprev,epsilon,iterNum):\n",
    "    ValItErr = math.inf\n",
    "    it = 0\n",
    "    print_data = [[it, xprev, fx(xprev), ValItErr]]\n",
    "    while it<=iterNum and ValItErr > epsilon:\n",
    "        xnext = xprev - fx(xprev)/fdashx(xprev)\n",
    "        ValItErr = abs(fx(xnext) - fx(xprev))\n",
    "        Rate_Const = abs(xnext - 2)\n",
    "        xprev = xnext\n",
    "        it += 1\n",
    "        print_data.append([it, xnext, fx(xnext), ValItErr, Rate_Const])\n",
    "    return print(tabulate(print_data, headers=[\"Iteration\", \"x_k\", \"f(x_k)\", \"Error\", \"Rate Constant\"]))"
   ]
  },
  {
   "cell_type": "markdown",
   "id": "0df53e11-0053-4ec2-ba6a-be95428f842f",
   "metadata": {},
   "source": [
    "## Evaluate Newton's Method with initial guess $x_0 = 3$"
   ]
  },
  {
   "cell_type": "code",
   "execution_count": 27,
   "id": "b80e13a1-0f21-47d5-b2c5-312e9dad026c",
   "metadata": {},
   "outputs": [],
   "source": [
    "iterNum = 10000\n",
    "epsilon = 1e-12"
   ]
  },
  {
   "cell_type": "code",
   "execution_count": 28,
   "id": "24e28dfa-057e-40f1-97ae-c9d148c86a4c",
   "metadata": {},
   "outputs": [
    {
     "name": "stdout",
     "output_type": "stream",
     "text": [
      "  Iteration      x_k       f(x_k)          Error    Rate Constant\n",
      "-----------  -------  -----------  -------------  ---------------\n",
      "          0  3        2            inf\n",
      "          1  2.77778  0.650578       1.34942          0.777778\n",
      "          2  2.6025   0.211173       0.439405         0.602504\n",
      "          3  2.46482  0.0683788      0.142794         0.464819\n",
      "          4  2.35716  0.0220831      0.0462957        0.357156\n",
      "          5  2.27338  0.00711238     0.0149707        0.273379\n",
      "          6  2.20852  0.00228456     0.00482782       0.208515\n",
      "          7  2.15854  0.000731963    0.0015526        0.158542\n",
      "          8  2.12022  0.000233978    0.000497985      0.120218\n",
      "          9  2.09095  7.46425e-05    0.000159336      0.0909485\n",
      "         10  2.06868  2.37714e-05    5.08711e-05      0.0686756\n",
      "         11  2.05178  7.5598e-06     1.62116e-05      0.0517781\n",
      "         12  2.03899  2.40142e-06    5.15837e-06      0.038991\n",
      "         13  2.02933  7.62135e-07    1.63929e-06      0.0293338\n",
      "         14  2.02205  2.41705e-07    5.2043e-07       0.0220523\n",
      "         15  2.01657  7.66122e-08    1.65093e-07      0.0165688\n",
      "         16  2.01244  2.42731e-08    5.23391e-08      0.0124434\n",
      "         17  2.00934  7.68796e-09    1.65851e-08      0.00934207\n",
      "         18  2.00701  2.43438e-09    5.25358e-09      0.00701194\n",
      "         19  2.00526  7.70698e-10    1.66368e-09      0.005262\n",
      "         20  2.00395  2.4396e-10     5.26738e-10      0.00394822\n",
      "         21  2.00296  7.72156e-11    1.66744e-10      0.00296214\n",
      "         22  2.00222  2.44375e-11    5.27781e-11      0.00222215\n",
      "         23  2.00167  7.7336e-12     1.67039e-11      0.00166692\n",
      "         24  2.00125  2.4473e-12     5.2863e-12       0.00125036\n",
      "         25  2.00094  7.74421e-13    1.67288e-12      0.00093787\n",
      "         26  2.0007   2.45051e-13    5.2937e-13       0.000703457\n"
     ]
    }
   ],
   "source": [
    "xprev = 3\n",
    "newton_method(xprev,epsilon,iterNum)"
   ]
  },
  {
   "cell_type": "markdown",
   "id": "642b2a6b-df3b-43a9-9c54-c6bd3bdebd81",
   "metadata": {},
   "source": [
    "Looking at the first iteration, the rate constant is approximately $0.75$."
   ]
  },
  {
   "cell_type": "markdown",
   "id": "772bdb15-875b-445e-9761-d6d18593179e",
   "metadata": {},
   "source": [
    "## Apply updated iteration method\n",
    "\n",
    "### Update Newton's Method"
   ]
  },
  {
   "cell_type": "code",
   "execution_count": 29,
   "id": "114ed05a-58e4-4432-b075-7b085c3d5f39",
   "metadata": {},
   "outputs": [],
   "source": [
    "def newton_method_upd(xprev,epsilon,iterNum):\n",
    "    ValItErr = math.inf\n",
    "    it = 0\n",
    "    print_data = [[it, xprev, fx(xprev), ValItErr]]\n",
    "    while it<=iterNum and ValItErr > epsilon:\n",
    "        xnext = xprev - 4*fx(xprev)/fdashx(xprev)\n",
    "        ValItErr = abs(fx(xnext) - fx(xprev))\n",
    "        Rate_Const = abs(xnext - 2)\n",
    "        xprev = xnext\n",
    "        it += 1\n",
    "        print_data.append([it, xnext, fx(xnext), ValItErr, Rate_Const])\n",
    "    return print(tabulate(print_data, headers=[\"Iteration\", \"x_k\", \"f(x_k)\", \"Error\", \"Rate Constant\"]))"
   ]
  },
  {
   "cell_type": "markdown",
   "id": "9c6b329c-d013-4e19-9710-41bfab993a1c",
   "metadata": {},
   "source": [
    "### Evaluate Updated Newton's Method with initial guess $x_0 = 3$"
   ]
  },
  {
   "cell_type": "code",
   "execution_count": 30,
   "id": "5b6ffb29-0941-42d0-841a-b8c59306f7c8",
   "metadata": {},
   "outputs": [],
   "source": [
    "iterNum = 10000\n",
    "epsilon = 1e-12"
   ]
  },
  {
   "cell_type": "code",
   "execution_count": 31,
   "id": "c7f47f30-ad1b-4da5-aa6f-855c0125d9b3",
   "metadata": {},
   "outputs": [
    {
     "name": "stdout",
     "output_type": "stream",
     "text": [
      "  Iteration      x_k       f(x_k)          Error    Rate Constant\n",
      "-----------  -------  -----------  -------------  ---------------\n",
      "          0  3        2            inf\n",
      "          1  2.11111  0.000169351    1.99983          0.111111\n",
      "          2  2.00271  5.40841e-11    0.000169351      0.00271003\n",
      "          3  2        1.12118e-23    5.40841e-11      1.82986e-06\n",
      "          4  2        4.91051e-49    1.12118e-23      8.37108e-13\n"
     ]
    }
   ],
   "source": [
    "xprev = 3\n",
    "newton_method_upd(xprev,epsilon,iterNum)"
   ]
  },
  {
   "cell_type": "markdown",
   "id": "91f3ca08-f6e8-4cdc-99a2-c8be3f069abe",
   "metadata": {},
   "source": [
    "Looking at the first iteration, the rate constant is approximately $0.1$."
   ]
  }
 ],
 "metadata": {
  "kernelspec": {
   "display_name": "Anaconda (base)",
   "language": "python",
   "name": "anaconda-base"
  },
  "language_info": {
   "codemirror_mode": {
    "name": "ipython",
    "version": 3
   },
   "file_extension": ".py",
   "mimetype": "text/x-python",
   "name": "python",
   "nbconvert_exporter": "python",
   "pygments_lexer": "ipython3",
   "version": "3.9.7"
  }
 },
 "nbformat": 4,
 "nbformat_minor": 5
}
