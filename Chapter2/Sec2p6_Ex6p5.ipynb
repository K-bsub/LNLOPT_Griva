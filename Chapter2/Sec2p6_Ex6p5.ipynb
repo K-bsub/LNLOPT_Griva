{
 "cells": [
  {
   "cell_type": "markdown",
   "id": "d772cc96-7894-4aec-a739-ee2b75747e2c",
   "metadata": {},
   "source": [
    "# Chapter 2 Section 6 Exercise 6.5"
   ]
  },
  {
   "cell_type": "code",
   "execution_count": 51,
   "id": "7030ff6b-0417-49be-9a06-c252f1669e86",
   "metadata": {},
   "outputs": [
    {
     "name": "stdout",
     "output_type": "stream",
     "text": [
      "Last Updated on: 2022-05-12 14:52:54.660984\n"
     ]
    }
   ],
   "source": [
    "from datetime import datetime\n",
    "print(\"Last Updated on: \" + str(datetime.now()))"
   ]
  },
  {
   "cell_type": "markdown",
   "id": "3638c7b8-6baf-4c85-98b5-fa98ae27cf61",
   "metadata": {},
   "source": [
    "## Problem Statement\n",
    "\n",
    "Find the first three terms of the Taylor series for\n",
    "\n",
    "$$\n",
    "f(x_1,x_2) = \\sqrt{x_1^2 + x_2^2}\n",
    "$$\n",
    "\n",
    "at the point\n",
    "\n",
    "$$\n",
    "x_0 = (3,4)^T\n",
    "$$"
   ]
  },
  {
   "cell_type": "markdown",
   "id": "4e3bc1f6-5ce9-4b02-b3c2-18f1ed68cd89",
   "metadata": {},
   "source": [
    "## Import packages"
   ]
  },
  {
   "cell_type": "code",
   "execution_count": 52,
   "id": "32e078c8-be6a-4e34-8743-44cd9ae2e59b",
   "metadata": {},
   "outputs": [],
   "source": [
    "from sympy import *\n",
    "import sympy"
   ]
  },
  {
   "cell_type": "markdown",
   "id": "f9d2dc2f-37a7-4238-a365-f2f124391e17",
   "metadata": {},
   "source": [
    "## Define variables"
   ]
  },
  {
   "cell_type": "code",
   "execution_count": 53,
   "id": "acbf00a7-78c2-4147-9470-08e6ac586129",
   "metadata": {},
   "outputs": [],
   "source": [
    "x1 = Symbol('x1')\n",
    "x2 = Symbol('x2')\n",
    "p1 = Symbol('p1')\n",
    "p2 = Symbol('p2')"
   ]
  },
  {
   "cell_type": "markdown",
   "id": "3409f227-aee7-4978-bd8f-09225a4f7cb8",
   "metadata": {},
   "source": [
    "## Define Function"
   ]
  },
  {
   "cell_type": "code",
   "execution_count": 54,
   "id": "66459b0a-a207-4d4f-9b97-00ed3fe7486c",
   "metadata": {},
   "outputs": [
    {
     "data": {
      "text/latex": [
       "$\\displaystyle \\sqrt{x_{1}^{2} + x_{2}^{2}}$"
      ],
      "text/plain": [
       "sqrt(x1**2 + x2**2)"
      ]
     },
     "execution_count": 54,
     "metadata": {},
     "output_type": "execute_result"
    }
   ],
   "source": [
    "func = sqrt((x1**2 + x2**2))\n",
    "v = list(ordered(func.free_symbols)); v\n",
    "p = Matrix([p1, p2])\n",
    "func"
   ]
  },
  {
   "cell_type": "markdown",
   "id": "83689cb5-9556-47c4-a55e-87a0f81e54eb",
   "metadata": {},
   "source": [
    "## Calculate Gradient"
   ]
  },
  {
   "cell_type": "code",
   "execution_count": 55,
   "id": "29b55a12-2201-4feb-b305-4cf810e6506e",
   "metadata": {},
   "outputs": [
    {
     "data": {
      "text/latex": [
       "$\\displaystyle \\left[\\begin{matrix}\\frac{x_{1}}{\\sqrt{x_{1}^{2} + x_{2}^{2}}} & \\frac{x_{2}}{\\sqrt{x_{1}^{2} + x_{2}^{2}}}\\end{matrix}\\right]$"
      ],
      "text/plain": [
       "Matrix([[x1/sqrt(x1**2 + x2**2), x2/sqrt(x1**2 + x2**2)]])"
      ]
     },
     "execution_count": 55,
     "metadata": {},
     "output_type": "execute_result"
    }
   ],
   "source": [
    "gradient = lambda func, v: Matrix([func]).jacobian(v)\n",
    "grad = gradient(func, v)\n",
    "grad"
   ]
  },
  {
   "cell_type": "markdown",
   "id": "bb9ca5c0-e47b-4f42-ba63-ffabc79d4936",
   "metadata": {},
   "source": [
    "## Calculate Hessian"
   ]
  },
  {
   "cell_type": "code",
   "execution_count": 56,
   "id": "240c42be-c86d-4a6d-989d-26aef503c281",
   "metadata": {},
   "outputs": [
    {
     "data": {
      "text/latex": [
       "$\\displaystyle \\left[\\begin{matrix}- \\frac{x_{1}^{2}}{\\left(x_{1}^{2} + x_{2}^{2}\\right)^{\\frac{3}{2}}} + \\frac{1}{\\sqrt{x_{1}^{2} + x_{2}^{2}}} & - \\frac{x_{1} x_{2}}{\\left(x_{1}^{2} + x_{2}^{2}\\right)^{\\frac{3}{2}}}\\\\- \\frac{x_{1} x_{2}}{\\left(x_{1}^{2} + x_{2}^{2}\\right)^{\\frac{3}{2}}} & - \\frac{x_{2}^{2}}{\\left(x_{1}^{2} + x_{2}^{2}\\right)^{\\frac{3}{2}}} + \\frac{1}{\\sqrt{x_{1}^{2} + x_{2}^{2}}}\\end{matrix}\\right]$"
      ],
      "text/plain": [
       "Matrix([\n",
       "[-x1**2/(x1**2 + x2**2)**(3/2) + 1/sqrt(x1**2 + x2**2),                         -x1*x2/(x1**2 + x2**2)**(3/2)],\n",
       "[                        -x1*x2/(x1**2 + x2**2)**(3/2), -x2**2/(x1**2 + x2**2)**(3/2) + 1/sqrt(x1**2 + x2**2)]])"
      ]
     },
     "execution_count": 56,
     "metadata": {},
     "output_type": "execute_result"
    }
   ],
   "source": [
    "hess = hessian(func, v)\n",
    "hess"
   ]
  },
  {
   "cell_type": "markdown",
   "id": "acf0c8f4-b71a-4574-a7fa-71e7f47a7f04",
   "metadata": {},
   "source": [
    "## Define Taylor Series equation"
   ]
  },
  {
   "cell_type": "code",
   "execution_count": 57,
   "id": "25ea7677-b8ed-4167-a0eb-16ec19cc9156",
   "metadata": {},
   "outputs": [
    {
     "data": {
      "text/latex": [
       "$\\displaystyle \\left[\\begin{matrix}\\frac{p_{1} x_{1}}{\\sqrt{x_{1}^{2} + x_{2}^{2}}} + p_{1} \\cdot \\left(0.5 p_{1} \\left(- \\frac{x_{1}^{2}}{\\left(x_{1}^{2} + x_{2}^{2}\\right)^{\\frac{3}{2}}} + \\frac{1}{\\sqrt{x_{1}^{2} + x_{2}^{2}}}\\right) - \\frac{0.5 p_{2} x_{1} x_{2}}{\\left(x_{1}^{2} + x_{2}^{2}\\right)^{\\frac{3}{2}}}\\right) + \\frac{p_{2} x_{2}}{\\sqrt{x_{1}^{2} + x_{2}^{2}}} + p_{2} \\left(- \\frac{0.5 p_{1} x_{1} x_{2}}{\\left(x_{1}^{2} + x_{2}^{2}\\right)^{\\frac{3}{2}}} + 0.5 p_{2} \\left(- \\frac{x_{2}^{2}}{\\left(x_{1}^{2} + x_{2}^{2}\\right)^{\\frac{3}{2}}} + \\frac{1}{\\sqrt{x_{1}^{2} + x_{2}^{2}}}\\right)\\right) + \\sqrt{x_{1}^{2} + x_{2}^{2}}\\end{matrix}\\right]$"
      ],
      "text/plain": [
       "Matrix([[p1*x1/sqrt(x1**2 + x2**2) + p1*(0.5*p1*(-x1**2/(x1**2 + x2**2)**(3/2) + 1/sqrt(x1**2 + x2**2)) - 0.5*p2*x1*x2/(x1**2 + x2**2)**(3/2)) + p2*x2/sqrt(x1**2 + x2**2) + p2*(-0.5*p1*x1*x2/(x1**2 + x2**2)**(3/2) + 0.5*p2*(-x2**2/(x1**2 + x2**2)**(3/2) + 1/sqrt(x1**2 + x2**2))) + sqrt(x1**2 + x2**2)]])"
      ]
     },
     "execution_count": 57,
     "metadata": {},
     "output_type": "execute_result"
    }
   ],
   "source": [
    "TS = Matrix([func]) + p.T*grad.T + 0.5*p.T*hess.T*p\n",
    "TS"
   ]
  },
  {
   "cell_type": "markdown",
   "id": "21cea0ee-9c08-4e26-b8a6-e5af6b29e68d",
   "metadata": {},
   "source": [
    "# Evaluate the Taylor Series"
   ]
  },
  {
   "cell_type": "code",
   "execution_count": 58,
   "id": "929c01af-c05f-4d4c-8a00-43f73318f133",
   "metadata": {},
   "outputs": [
    {
     "data": {
      "text/latex": [
       "$\\displaystyle \\left[\\begin{matrix}5.0685476\\end{matrix}\\right]$"
      ],
      "text/plain": [
       "Matrix([[5.0685476]])"
      ]
     },
     "execution_count": 58,
     "metadata": {},
     "output_type": "execute_result"
    }
   ],
   "source": [
    "TS.subs([(x1,3),(x2,4),(p1,0.1),(p2,0.01)])"
   ]
  },
  {
   "cell_type": "code",
   "execution_count": 59,
   "id": "4113b6c0-e4b0-4ce7-aad6-71b929559210",
   "metadata": {},
   "outputs": [
    {
     "data": {
      "text/latex": [
       "$\\displaystyle 5$"
      ],
      "text/plain": [
       "5"
      ]
     },
     "execution_count": 59,
     "metadata": {},
     "output_type": "execute_result"
    }
   ],
   "source": [
    "func.subs([(x1,3),(x2,4)])"
   ]
  }
 ],
 "metadata": {
  "kernelspec": {
   "display_name": "Anaconda (base)",
   "language": "python",
   "name": "anaconda-base"
  },
  "language_info": {
   "codemirror_mode": {
    "name": "ipython",
    "version": 3
   },
   "file_extension": ".py",
   "mimetype": "text/x-python",
   "name": "python",
   "nbconvert_exporter": "python",
   "pygments_lexer": "ipython3",
   "version": "3.9.7"
  }
 },
 "nbformat": 4,
 "nbformat_minor": 5
}
