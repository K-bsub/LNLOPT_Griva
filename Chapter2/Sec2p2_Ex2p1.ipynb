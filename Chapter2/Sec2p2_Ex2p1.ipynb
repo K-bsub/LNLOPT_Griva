{
 "cells": [
  {
   "cell_type": "markdown",
   "id": "aaae809a-ea8a-4201-94aa-e45490f176d3",
   "metadata": {},
   "source": [
    "# Chapter 2 Section 2 Exercise 2.1"
   ]
  },
  {
   "cell_type": "code",
   "execution_count": 25,
   "id": "977d6aa9-8ea2-4fd0-80f9-b3464efdb213",
   "metadata": {},
   "outputs": [
    {
     "name": "stdout",
     "output_type": "stream",
     "text": [
      "Last Updated on: 2022-04-26 14:13:03.142987\n"
     ]
    }
   ],
   "source": [
    "from datetime import datetime\n",
    "print(\"Last Updated on: \" + str(datetime.now()))"
   ]
  },
  {
   "cell_type": "markdown",
   "id": "3c7e697d-013c-4c8b-ae50-b626554c559d",
   "metadata": {},
   "source": [
    "## Problem Statement\n",
    "\n",
    "Consider the feasible region defined by constraints\n",
    "\n",
    "$$\n",
    "    \\begin{eqnarray}\n",
    "    1 - x_{1}^{2} - x_{2}^{2} & \\ge 0 \\\\\n",
    "    \\sqrt{2} - x_{1} - x_{2} & \\ge 0 \\\\\n",
    "    x_{2} & \\ge 0\n",
    "    \\end{eqnarray}\n",
    "$$\n",
    "\n",
    "Determine if the following points are feasible or infeasible, and interior or boundary of each of the constraints.\n",
    "\n",
    "$$\n",
    "x_{a} = \\begin{bmatrix} \\frac{1}{2} \\\\ \\frac{1}{2} \\end{bmatrix} \\\\\n",
    "x_{b} = \\begin{bmatrix} 1 \\\\ 0 \\end{bmatrix} \\\\\n",
    "x_{c} = \\begin{bmatrix} -1 \\\\ 0 \\end{bmatrix} \\\\\n",
    "x_{d} = \\begin{bmatrix} -\\frac{1}{2} \\\\ 0 \\end{bmatrix} \\\\\n",
    "x_{e} = \\begin{bmatrix} \\frac{1}{\\sqrt{2}} \\\\ \\frac{1}{\\sqrt{2}} \\end{bmatrix} \\\\\n",
    "$$"
   ]
  },
  {
   "cell_type": "markdown",
   "id": "f1beabfc-11e0-4e65-aac5-fb36e01e5c06",
   "metadata": {},
   "source": [
    "## Import packages"
   ]
  },
  {
   "cell_type": "code",
   "execution_count": 26,
   "id": "26f9b3dd-5e87-43e9-84f3-8057bdd1c0cf",
   "metadata": {},
   "outputs": [],
   "source": [
    "import numpy as np\n",
    "import warnings"
   ]
  },
  {
   "cell_type": "markdown",
   "id": "65435500-2d17-49f3-8613-313bbbc368f0",
   "metadata": {},
   "source": [
    "## Function Definitions\n",
    "### Constraints Evaluation Function\n",
    "\n",
    "Let's write a function that evaluate the values of the constraints. "
   ]
  },
  {
   "cell_type": "code",
   "execution_count": 27,
   "id": "ff8c6d2c-35b8-4570-b598-d423362b774a",
   "metadata": {},
   "outputs": [],
   "source": [
    "def constraints_value(x):\n",
    "    c1 = 1 - x[0]**2 - x[1]**2\n",
    "    c2 = np.sqrt(2) - x[0] - x[1]\n",
    "    c3 = x[1]\n",
    "    return np.array([c1, c2, c3])"
   ]
  },
  {
   "cell_type": "markdown",
   "id": "058e0733-ad85-44d2-b485-8804ca96cc71",
   "metadata": {},
   "source": [
    "### Constraint Satisfaction Function\n",
    "\n",
    "Next, let's write a function that evaluates if the evaluated constraint equation values satisfy the constraints. We will add an option of satisfaction for \"Less than equal to\", \"Greater than equal to\", and \"Equal to\"."
   ]
  },
  {
   "cell_type": "code",
   "execution_count": 28,
   "id": "e8239d5b-5408-47a5-be6e-827e21da2d99",
   "metadata": {},
   "outputs": [],
   "source": [
    "def constraints_satisfy(B,const_type=\">=\"):\n",
    "    if const_type == \">=\":\n",
    "        return (B >= 0)\n",
    "    elif const_type == \"<=\":\n",
    "        return (B <= 0)\n",
    "    elif const_type == \"==\":\n",
    "        return (B == 0)\n",
    "    elif const_type == \">\":\n",
    "        return (B > 0)\n",
    "    elif const_type == \"<\":\n",
    "        return (B < 0)\n",
    "    else:\n",
    "        warnings.warn(\"Warning: Please enter a correct condition. Accepted values: >=,<=,==,>,<\")"
   ]
  },
  {
   "cell_type": "markdown",
   "id": "3a127ccd-8e15-49a7-b901-86d4af3ef1c3",
   "metadata": {},
   "source": [
    "### Point Type Function\n",
    "\n",
    "Finally, we write a function that converts the output of the constraint satisfaction function into point type characteristics. It will output if a point is feasible or infeasible, and if feasible, whether it is on the interior to or on the boundary of each constraint."
   ]
  },
  {
   "cell_type": "code",
   "execution_count": 29,
   "id": "3be1a3f5-82ea-4843-921e-ce326d5c0972",
   "metadata": {},
   "outputs": [],
   "source": [
    "def point_type(feas_np, bound_np):\n",
    "    if np.all(feas_np == True):\n",
    "        print(\"Point is feasible.\\n\")\n",
    "        for idx in range(len(feas_np)):\n",
    "            if feas_np[idx] == True and bound_np[idx] == True:\n",
    "                print(\"Point is on the boundary of constraint \" + str(idx) + \".\\n\")\n",
    "            else:\n",
    "                print(\"Point is interior to constraint \" + str(idx+1) + \".\\n\")\n",
    "    else:\n",
    "        print(\"Point is not feasible.\")"
   ]
  },
  {
   "cell_type": "markdown",
   "id": "117bada6-dbd8-4ec0-909e-f1e0af1acfb7",
   "metadata": {
    "tags": []
   },
   "source": [
    "## Point a\n",
    "\n",
    "$$\n",
    "x_{a} = \\begin{bmatrix} \\frac{1}{2} \\\\ \\frac{1}{2} \\end{bmatrix} \n",
    "$$"
   ]
  },
  {
   "cell_type": "code",
   "execution_count": 30,
   "id": "87624e35-d6b5-4484-a97c-9e16e3ff776b",
   "metadata": {},
   "outputs": [
    {
     "name": "stdout",
     "output_type": "stream",
     "text": [
      "Point is feasible.\n",
      "\n",
      "Point is interior to constraint 1.\n",
      "\n",
      "Point is interior to constraint 2.\n",
      "\n",
      "Point is interior to constraint 3.\n",
      "\n"
     ]
    }
   ],
   "source": [
    "x = np.array([0.5, 0.5])\n",
    "B = constraints_value(x)\n",
    "F = constraints_satisfy(B,const_type=\">=\")\n",
    "E = constraints_satisfy(B,const_type=\"==\")\n",
    "point_type(F, E)"
   ]
  },
  {
   "cell_type": "markdown",
   "id": "9f916af1-727a-4da1-899a-fb7b53c6a44b",
   "metadata": {},
   "source": [
    "## Point b\n",
    "\n",
    "$$\n",
    "x_{b} = \\begin{bmatrix} 1 \\\\ 0 \\end{bmatrix} \n",
    "$$"
   ]
  },
  {
   "cell_type": "code",
   "execution_count": 31,
   "id": "b1258842-8260-4885-83f6-86df0a09588d",
   "metadata": {},
   "outputs": [
    {
     "name": "stdout",
     "output_type": "stream",
     "text": [
      "Point is feasible.\n",
      "\n",
      "Point is on the boundary of constraint 0.\n",
      "\n",
      "Point is interior to constraint 2.\n",
      "\n",
      "Point is on the boundary of constraint 2.\n",
      "\n"
     ]
    }
   ],
   "source": [
    "x = np.array([1, 0])\n",
    "B = constraints_value(x)\n",
    "F = constraints_satisfy(B,const_type=\">=\")\n",
    "E = constraints_satisfy(B,const_type=\"==\")\n",
    "point_type(F, E)"
   ]
  },
  {
   "cell_type": "markdown",
   "id": "5a0f5794-3bdc-4d31-81be-2ff5c1505cba",
   "metadata": {},
   "source": [
    "## Point c\n",
    "\n",
    "$$\n",
    "x_{c} = \\begin{bmatrix} -1 \\\\ 0 \\end{bmatrix} \n",
    "$$"
   ]
  },
  {
   "cell_type": "code",
   "execution_count": 32,
   "id": "5ff0a8be-84a1-4a81-a962-e2e8c2b649b5",
   "metadata": {},
   "outputs": [
    {
     "name": "stdout",
     "output_type": "stream",
     "text": [
      "Point is feasible.\n",
      "\n",
      "Point is on the boundary of constraint 0.\n",
      "\n",
      "Point is interior to constraint 2.\n",
      "\n",
      "Point is on the boundary of constraint 2.\n",
      "\n"
     ]
    }
   ],
   "source": [
    "x = np.array([-1, 0])\n",
    "B = constraints_value(x)\n",
    "F = constraints_satisfy(B,const_type=\">=\")\n",
    "E = constraints_satisfy(B,const_type=\"==\")\n",
    "point_type(F, E)"
   ]
  },
  {
   "cell_type": "markdown",
   "id": "3d35e488-cd27-40f2-85ba-a2b2a7035afb",
   "metadata": {},
   "source": [
    "## Point d\n",
    "\n",
    "$$\n",
    "x_{d} = \\begin{bmatrix} -\\frac{1}{2} \\\\ 0 \\end{bmatrix} \n",
    "$$"
   ]
  },
  {
   "cell_type": "code",
   "execution_count": 33,
   "id": "9772a9dd-41c0-4e2c-b37c-a1e057bcd241",
   "metadata": {},
   "outputs": [
    {
     "name": "stdout",
     "output_type": "stream",
     "text": [
      "Point is feasible.\n",
      "\n",
      "Point is interior to constraint 1.\n",
      "\n",
      "Point is interior to constraint 2.\n",
      "\n",
      "Point is on the boundary of constraint 2.\n",
      "\n"
     ]
    }
   ],
   "source": [
    "x = np.array([-0.5, 0])\n",
    "B = constraints_value(x)\n",
    "F = constraints_satisfy(B,const_type=\">=\")\n",
    "E = constraints_satisfy(B,const_type=\"==\")\n",
    "point_type(F, E)"
   ]
  },
  {
   "cell_type": "markdown",
   "id": "d6199a30-226b-4fe0-8fab-23f84ff965c7",
   "metadata": {},
   "source": [
    "## Point e\n",
    "\n",
    "$$\n",
    "x_{e} = \\begin{bmatrix} \\frac{1}{\\sqrt{2}} \\\\ \\frac{1}{\\sqrt{2}} \\end{bmatrix}\n",
    "$$"
   ]
  },
  {
   "cell_type": "code",
   "execution_count": 34,
   "id": "0779e03b-b8e2-4c3c-8001-5647a31bd435",
   "metadata": {},
   "outputs": [
    {
     "name": "stdout",
     "output_type": "stream",
     "text": [
      "Point is feasible.\n",
      "\n",
      "Point is interior to constraint 1.\n",
      "\n",
      "Point is interior to constraint 2.\n",
      "\n",
      "Point is interior to constraint 3.\n",
      "\n"
     ]
    }
   ],
   "source": [
    "x = np.array([1/np.sqrt(2), 1/np.sqrt(2)])\n",
    "B = constraints_value(x)\n",
    "F = constraints_satisfy(B,const_type=\">=\")\n",
    "E = constraints_satisfy(B,const_type=\"==\")\n",
    "point_type(F, E)"
   ]
  }
 ],
 "metadata": {
  "kernelspec": {
   "display_name": "Anaconda (base)",
   "language": "python",
   "name": "anaconda-base"
  },
  "language_info": {
   "codemirror_mode": {
    "name": "ipython",
    "version": 3
   },
   "file_extension": ".py",
   "mimetype": "text/x-python",
   "name": "python",
   "nbconvert_exporter": "python",
   "pygments_lexer": "ipython3",
   "version": "3.9.7"
  }
 },
 "nbformat": 4,
 "nbformat_minor": 5
}
