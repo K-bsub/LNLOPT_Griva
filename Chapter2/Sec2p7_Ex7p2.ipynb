{
 "cells": [
  {
   "cell_type": "markdown",
   "id": "9ee34e5a-872a-4cdb-90a0-3cbd84bc7532",
   "metadata": {},
   "source": [
    "# Chapter 2 Section 7 Exercise 7.2"
   ]
  },
  {
   "cell_type": "code",
   "execution_count": 33,
   "id": "94b4620a-3672-4ad5-b7b2-6cd85518e493",
   "metadata": {},
   "outputs": [
    {
     "name": "stdout",
     "output_type": "stream",
     "text": [
      "Last Updated on: 2022-05-14 12:19:51.026379\n"
     ]
    }
   ],
   "source": [
    "from datetime import datetime\n",
    "print(\"Last Updated on: \" + str(datetime.now()))"
   ]
  },
  {
   "cell_type": "markdown",
   "id": "6f2ee2a1-c555-4698-918b-874a5f2ff55b",
   "metadata": {},
   "source": [
    "## Problem Statement\n",
    "\n",
    "Using Newton's method to determine a function $f$ such that $f(\\frac{1}{a}) = 0$ for which the formula only uses addition, subtraction, and mutliplication. For what initial value does Newton's method converge for this function?"
   ]
  },
  {
   "cell_type": "markdown",
   "id": "b46872cf-c4dc-4051-a4d4-d86eb9ffc53a",
   "metadata": {},
   "source": [
    "## Import packages"
   ]
  },
  {
   "cell_type": "code",
   "execution_count": 34,
   "id": "af520bff-328c-4252-a417-ffe362cee737",
   "metadata": {},
   "outputs": [],
   "source": [
    "from sympy import *\n",
    "import sympy\n",
    "import math\n",
    "from tabulate import tabulate"
   ]
  },
  {
   "cell_type": "markdown",
   "id": "0502726b-6305-4f62-b5f1-ded4acf1f7cf",
   "metadata": {},
   "source": [
    "## Define variables"
   ]
  },
  {
   "cell_type": "code",
   "execution_count": 35,
   "id": "bff5e281-4ff9-43a9-a53a-8c0a4c2ed355",
   "metadata": {},
   "outputs": [],
   "source": [
    "a = Symbol('a')\n",
    "a0 = Symbol('a0')"
   ]
  },
  {
   "cell_type": "markdown",
   "id": "c247bf2e-a3ca-40db-8440-bb8dc66d73a0",
   "metadata": {},
   "source": [
    "## Determine function using Newton's Method\n",
    "\n",
    "### Define original function"
   ]
  },
  {
   "cell_type": "code",
   "execution_count": 36,
   "id": "ef36b0d3-8a08-4fed-a02b-892ac8c3b791",
   "metadata": {},
   "outputs": [
    {
     "data": {
      "text/latex": [
       "$\\displaystyle \\frac{1}{a}$"
      ],
      "text/plain": [
       "1/a"
      ]
     },
     "execution_count": 36,
     "metadata": {},
     "output_type": "execute_result"
    }
   ],
   "source": [
    "func = 1/a\n",
    "func"
   ]
  },
  {
   "cell_type": "markdown",
   "id": "e149455a-ff76-49d6-a6d4-2369a01dee85",
   "metadata": {},
   "source": [
    "### Obtain differentiation"
   ]
  },
  {
   "cell_type": "code",
   "execution_count": 37,
   "id": "3f8b1657-a717-4e11-819b-3cdcdcf4ce8d",
   "metadata": {},
   "outputs": [
    {
     "data": {
      "text/latex": [
       "$\\displaystyle - \\frac{1}{a^{2}}$"
      ],
      "text/plain": [
       "-1/a**2"
      ]
     },
     "execution_count": 37,
     "metadata": {},
     "output_type": "execute_result"
    }
   ],
   "source": [
    "dfunc = diff(func,a)\n",
    "dfunc"
   ]
  },
  {
   "cell_type": "markdown",
   "id": "7aa513fe-ce87-41db-8ea1-a3c263010f93",
   "metadata": {},
   "source": [
    "### Obtain $f$ from Newton's method"
   ]
  },
  {
   "cell_type": "code",
   "execution_count": 38,
   "id": "1a88de40-4089-4db2-aea1-d9c70c86cee0",
   "metadata": {},
   "outputs": [
    {
     "data": {
      "text/latex": [
       "$\\displaystyle a + a_{0}$"
      ],
      "text/plain": [
       "a + a0"
      ]
     },
     "execution_count": 38,
     "metadata": {},
     "output_type": "execute_result"
    }
   ],
   "source": [
    "NMf = a0 - func/dfunc\n",
    "NMf"
   ]
  },
  {
   "cell_type": "markdown",
   "id": "e5892932-e5a7-48a1-be36-f7880e52abda",
   "metadata": {},
   "source": [
    "This formula doesn't use a division."
   ]
  },
  {
   "cell_type": "markdown",
   "id": "eccc6309-9c18-44de-ac41-30241323a661",
   "metadata": {},
   "source": [
    "## Find Initial Guess to solve this problem\n",
    "\n",
    "### Define $f(x)$"
   ]
  },
  {
   "cell_type": "code",
   "execution_count": 39,
   "id": "f4e827e6-8cc2-4e04-b158-72268bf24521",
   "metadata": {},
   "outputs": [],
   "source": [
    "def fx(x):\n",
    "    return 1/x"
   ]
  },
  {
   "cell_type": "markdown",
   "id": "62a7aa0e-bb0f-4d6a-9ee7-f37bc6fc4c46",
   "metadata": {},
   "source": [
    "### Define $f^{'}(x)$"
   ]
  },
  {
   "cell_type": "code",
   "execution_count": 40,
   "id": "2cdd601e-7973-4a6e-8df1-faf0d5a0da21",
   "metadata": {},
   "outputs": [],
   "source": [
    "def fdashx(x):\n",
    "    return -1/x**2"
   ]
  },
  {
   "cell_type": "markdown",
   "id": "19e890bb-4311-44c7-be7f-6d17fd7fd410",
   "metadata": {},
   "source": [
    "### Define Newton's Method"
   ]
  },
  {
   "cell_type": "code",
   "execution_count": 41,
   "id": "4e5486e3-3a16-474a-9948-84502d654dc9",
   "metadata": {},
   "outputs": [],
   "source": [
    "def newton_method(xprev,epsilon,iterNum):\n",
    "    ValItErr = math.inf\n",
    "    it = 0\n",
    "    print_data = [[it, xprev, fx(xprev), ValItErr]]\n",
    "    while it<=iterNum and ValItErr > epsilon:\n",
    "        xnext = xprev - fx(xprev)/fdashx(xprev)\n",
    "        ValItErr = abs(fx(xnext) - fx(xprev))\n",
    "        xprev = xnext\n",
    "        it += 1\n",
    "        print_data.append([it, xnext, fx(xnext), ValItErr])\n",
    "    return print(tabulate(print_data, headers=[\"Iteration\", \"x_k\", \"f(x_k)\", \"Error\"]))"
   ]
  },
  {
   "cell_type": "markdown",
   "id": "e48a91cf-61e0-4a61-afe1-0bbf3c513fa2",
   "metadata": {},
   "source": [
    "### Define Max Iterations and Accuracy"
   ]
  },
  {
   "cell_type": "code",
   "execution_count": 42,
   "id": "891bbbc3-a76a-477e-9e39-a8fcaa0d670c",
   "metadata": {},
   "outputs": [],
   "source": [
    "iterNum = 10000\n",
    "epsilon = 1e-12"
   ]
  },
  {
   "cell_type": "markdown",
   "id": "53f102e9-605a-4a9c-b126-9289f6a18316",
   "metadata": {},
   "source": [
    "### $x_0 = 0.1$"
   ]
  },
  {
   "cell_type": "code",
   "execution_count": 43,
   "id": "346233b5-1bc9-4756-9439-899988b4a2d2",
   "metadata": {},
   "outputs": [
    {
     "name": "stdout",
     "output_type": "stream",
     "text": [
      "  Iteration               x_k        f(x_k)          Error\n",
      "-----------  ----------------  ------------  -------------\n",
      "          0       0.1          10            inf\n",
      "          1       0.2           5              5\n",
      "          2       0.4           2.5            2.5\n",
      "          3       0.8           1.25           1.25\n",
      "          4       1.6           0.625          0.625\n",
      "          5       3.2           0.3125         0.3125\n",
      "          6       6.4           0.15625        0.15625\n",
      "          7      12.8           0.078125       0.078125\n",
      "          8      25.6           0.0390625      0.0390625\n",
      "          9      51.2           0.0195312      0.0195312\n",
      "         10     102.4           0.00976562     0.00976562\n",
      "         11     204.8           0.00488281     0.00488281\n",
      "         12     409.6           0.00244141     0.00244141\n",
      "         13     819.2           0.0012207      0.0012207\n",
      "         14    1638.4           0.000610352    0.000610352\n",
      "         15    3276.8           0.000305176    0.000305176\n",
      "         16    6553.6           0.000152588    0.000152588\n",
      "         17   13107.2           7.62939e-05    7.62939e-05\n",
      "         18   26214.4           3.8147e-05     3.8147e-05\n",
      "         19   52428.8           1.90735e-05    1.90735e-05\n",
      "         20  104858             9.53674e-06    9.53674e-06\n",
      "         21  209715             4.76837e-06    4.76837e-06\n",
      "         22  419430             2.38419e-06    2.38419e-06\n",
      "         23  838861             1.19209e-06    1.19209e-06\n",
      "         24       1.67772e+06   5.96046e-07    5.96046e-07\n",
      "         25       3.35544e+06   2.98023e-07    2.98023e-07\n",
      "         26       6.71089e+06   1.49012e-07    1.49012e-07\n",
      "         27       1.34218e+07   7.45058e-08    7.45058e-08\n",
      "         28       2.68435e+07   3.72529e-08    3.72529e-08\n",
      "         29       5.36871e+07   1.86265e-08    1.86265e-08\n",
      "         30       1.07374e+08   9.31323e-09    9.31323e-09\n",
      "         31       2.14748e+08   4.65661e-09    4.65661e-09\n",
      "         32       4.29497e+08   2.32831e-09    2.32831e-09\n",
      "         33       8.58993e+08   1.16415e-09    1.16415e-09\n",
      "         34       1.71799e+09   5.82077e-10    5.82077e-10\n",
      "         35       3.43597e+09   2.91038e-10    2.91038e-10\n",
      "         36       6.87195e+09   1.45519e-10    1.45519e-10\n",
      "         37       1.37439e+10   7.27596e-11    7.27596e-11\n",
      "         38       2.74878e+10   3.63798e-11    3.63798e-11\n",
      "         39       5.49756e+10   1.81899e-11    1.81899e-11\n",
      "         40       1.09951e+11   9.09495e-12    9.09495e-12\n",
      "         41       2.19902e+11   4.54747e-12    4.54747e-12\n",
      "         42       4.39805e+11   2.27374e-12    2.27374e-12\n",
      "         43       8.79609e+11   1.13687e-12    1.13687e-12\n",
      "         44       1.75922e+12   5.68434e-13    5.68434e-13\n"
     ]
    }
   ],
   "source": [
    "xprev = 0.1\n",
    "newton_method(xprev,epsilon,iterNum)"
   ]
  },
  {
   "cell_type": "markdown",
   "id": "cd73a11b-326e-450c-9ad4-74f36b9bdc8b",
   "metadata": {},
   "source": [
    "With a small positive initial guess, the function evaluates to $0$ at $x_{k} = 1.76e12$."
   ]
  },
  {
   "cell_type": "markdown",
   "id": "019f3211-48c2-496c-ae07-7d577000c611",
   "metadata": {},
   "source": [
    "### $x_0 = -0.1$"
   ]
  },
  {
   "cell_type": "code",
   "execution_count": 44,
   "id": "cbf7d498-846f-4e21-874a-9241e4692469",
   "metadata": {},
   "outputs": [
    {
     "name": "stdout",
     "output_type": "stream",
     "text": [
      "  Iteration                x_k         f(x_k)          Error\n",
      "-----------  -----------------  -------------  -------------\n",
      "          0       -0.1          -10            inf\n",
      "          1       -0.2           -5              5\n",
      "          2       -0.4           -2.5            2.5\n",
      "          3       -0.8           -1.25           1.25\n",
      "          4       -1.6           -0.625          0.625\n",
      "          5       -3.2           -0.3125         0.3125\n",
      "          6       -6.4           -0.15625        0.15625\n",
      "          7      -12.8           -0.078125       0.078125\n",
      "          8      -25.6           -0.0390625      0.0390625\n",
      "          9      -51.2           -0.0195312      0.0195312\n",
      "         10     -102.4           -0.00976562     0.00976562\n",
      "         11     -204.8           -0.00488281     0.00488281\n",
      "         12     -409.6           -0.00244141     0.00244141\n",
      "         13     -819.2           -0.0012207      0.0012207\n",
      "         14    -1638.4           -0.000610352    0.000610352\n",
      "         15    -3276.8           -0.000305176    0.000305176\n",
      "         16    -6553.6           -0.000152588    0.000152588\n",
      "         17   -13107.2           -7.62939e-05    7.62939e-05\n",
      "         18   -26214.4           -3.8147e-05     3.8147e-05\n",
      "         19   -52428.8           -1.90735e-05    1.90735e-05\n",
      "         20  -104858             -9.53674e-06    9.53674e-06\n",
      "         21  -209715             -4.76837e-06    4.76837e-06\n",
      "         22  -419430             -2.38419e-06    2.38419e-06\n",
      "         23  -838861             -1.19209e-06    1.19209e-06\n",
      "         24       -1.67772e+06   -5.96046e-07    5.96046e-07\n",
      "         25       -3.35544e+06   -2.98023e-07    2.98023e-07\n",
      "         26       -6.71089e+06   -1.49012e-07    1.49012e-07\n",
      "         27       -1.34218e+07   -7.45058e-08    7.45058e-08\n",
      "         28       -2.68435e+07   -3.72529e-08    3.72529e-08\n",
      "         29       -5.36871e+07   -1.86265e-08    1.86265e-08\n",
      "         30       -1.07374e+08   -9.31323e-09    9.31323e-09\n",
      "         31       -2.14748e+08   -4.65661e-09    4.65661e-09\n",
      "         32       -4.29497e+08   -2.32831e-09    2.32831e-09\n",
      "         33       -8.58993e+08   -1.16415e-09    1.16415e-09\n",
      "         34       -1.71799e+09   -5.82077e-10    5.82077e-10\n",
      "         35       -3.43597e+09   -2.91038e-10    2.91038e-10\n",
      "         36       -6.87195e+09   -1.45519e-10    1.45519e-10\n",
      "         37       -1.37439e+10   -7.27596e-11    7.27596e-11\n",
      "         38       -2.74878e+10   -3.63798e-11    3.63798e-11\n",
      "         39       -5.49756e+10   -1.81899e-11    1.81899e-11\n",
      "         40       -1.09951e+11   -9.09495e-12    9.09495e-12\n",
      "         41       -2.19902e+11   -4.54747e-12    4.54747e-12\n",
      "         42       -4.39805e+11   -2.27374e-12    2.27374e-12\n",
      "         43       -8.79609e+11   -1.13687e-12    1.13687e-12\n",
      "         44       -1.75922e+12   -5.68434e-13    5.68434e-13\n"
     ]
    }
   ],
   "source": [
    "xprev = -0.1\n",
    "newton_method(xprev,epsilon,iterNum)"
   ]
  },
  {
   "cell_type": "markdown",
   "id": "cede34f3-cf0b-46f6-9e83-b0c247e5f90d",
   "metadata": {},
   "source": [
    "With a small negative initial guess, the function evaluates to $0$ at $x_{k} = -1.76e12$.\n",
    "\n",
    "Newton's method converges for all initial values not equal to zero."
   ]
  }
 ],
 "metadata": {
  "kernelspec": {
   "display_name": "Anaconda (base)",
   "language": "python",
   "name": "anaconda-base"
  },
  "language_info": {
   "codemirror_mode": {
    "name": "ipython",
    "version": 3
   },
   "file_extension": ".py",
   "mimetype": "text/x-python",
   "name": "python",
   "nbconvert_exporter": "python",
   "pygments_lexer": "ipython3",
   "version": "3.9.7"
  }
 },
 "nbformat": 4,
 "nbformat_minor": 5
}
