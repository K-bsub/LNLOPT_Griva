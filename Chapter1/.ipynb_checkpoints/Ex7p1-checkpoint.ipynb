{
 "cells": [
  {
   "cell_type": "markdown",
   "metadata": {},
   "source": [
    "# Chapter 1 Exercise 7.1"
   ]
  },
  {
   "cell_type": "code",
   "execution_count": 58,
   "metadata": {},
   "outputs": [
    {
     "name": "stdout",
     "output_type": "stream",
     "text": [
      "Last Updated on: 2022-04-22 14:23:31.776174\n"
     ]
    }
   ],
   "source": [
    "from datetime import datetime\n",
    "print(\"Last Updated on: \" + str(datetime.now()))"
   ]
  },
  {
   "cell_type": "markdown",
   "metadata": {},
   "source": [
    "## Problem Statement\n",
    "Consider two classes of data, \n",
    "\n",
    "| X | Y | Classifier |\n",
    "| --- | --- | --- |\n",
    "| 0 | 13.3 | 0 |\n",
    "| 0 | 31.5 | 0 |\n",
    "| 2 | 4.2 | 0 |\n",
    "| 2.2 | 2.9 | 0 |\n",
    "| 1.7 | 3.6 | 0 |\n",
    "| 3 | 4 | 0 |\n",
    "| 1 | 4 | 0 |\n",
    "\n",
    "| X | Y | Classifier |\n",
    "| --- | --- | --- |\n",
    "| 1.8 | 1.5 | 1 |\n",
    "| 3.4 | 3.6 | 1 |\n",
    "| 0.2 | 2.5 | 1 |\n",
    "| 1 | 1.3 | 1 |\n",
    "| 1 | 2.5 | 1 |\n",
    "| 3 | 1.1 | 1 |\n",
    "| 2 | 0.1 | 1 |\n",
    "\n",
    "Use optimization software to compute the maximum margin hyperplane that separates the two classes of points."
   ]
  },
  {
   "cell_type": "markdown",
   "metadata": {},
   "source": [
    "## Sklearn Support Vector Machines\n",
    "\n",
    "We will utilize the sklearn package and use the [SVM](https://scikit-learn.org/stable/modules/svm.html) functionality to find the maximum separating hyperplane.\n",
    "\n",
    "### Import packages"
   ]
  },
  {
   "cell_type": "code",
   "execution_count": 59,
   "metadata": {},
   "outputs": [],
   "source": [
    "from sklearn import svm\n",
    "import numpy as np\n",
    "import pandas as pd"
   ]
  },
  {
   "cell_type": "markdown",
   "metadata": {},
   "source": [
    "### Define Inputs\n",
    "\n",
    "Let's define the points, and convert to a pandas dataframe."
   ]
  },
  {
   "cell_type": "code",
   "execution_count": 60,
   "metadata": {},
   "outputs": [
    {
     "data": {
      "text/html": [
       "<div>\n",
       "<style scoped>\n",
       "    .dataframe tbody tr th:only-of-type {\n",
       "        vertical-align: middle;\n",
       "    }\n",
       "\n",
       "    .dataframe tbody tr th {\n",
       "        vertical-align: top;\n",
       "    }\n",
       "\n",
       "    .dataframe thead th {\n",
       "        text-align: right;\n",
       "    }\n",
       "</style>\n",
       "<table border=\"1\" class=\"dataframe\">\n",
       "  <thead>\n",
       "    <tr style=\"text-align: right;\">\n",
       "      <th></th>\n",
       "      <th>x</th>\n",
       "      <th>y</th>\n",
       "      <th>target</th>\n",
       "    </tr>\n",
       "  </thead>\n",
       "  <tbody>\n",
       "    <tr>\n",
       "      <th>0</th>\n",
       "      <td>0.0</td>\n",
       "      <td>13.3</td>\n",
       "      <td>0</td>\n",
       "    </tr>\n",
       "    <tr>\n",
       "      <th>1</th>\n",
       "      <td>0.0</td>\n",
       "      <td>31.5</td>\n",
       "      <td>0</td>\n",
       "    </tr>\n",
       "    <tr>\n",
       "      <th>2</th>\n",
       "      <td>2.0</td>\n",
       "      <td>4.2</td>\n",
       "      <td>0</td>\n",
       "    </tr>\n",
       "    <tr>\n",
       "      <th>3</th>\n",
       "      <td>2.2</td>\n",
       "      <td>2.9</td>\n",
       "      <td>0</td>\n",
       "    </tr>\n",
       "    <tr>\n",
       "      <th>4</th>\n",
       "      <td>1.7</td>\n",
       "      <td>3.6</td>\n",
       "      <td>0</td>\n",
       "    </tr>\n",
       "  </tbody>\n",
       "</table>\n",
       "</div>"
      ],
      "text/plain": [
       "     x     y  target\n",
       "0  0.0  13.3       0\n",
       "1  0.0  31.5       0\n",
       "2  2.0   4.2       0\n",
       "3  2.2   2.9       0\n",
       "4  1.7   3.6       0"
      ]
     },
     "execution_count": 60,
     "metadata": {},
     "output_type": "execute_result"
    }
   ],
   "source": [
    "X = [[0, 13.3], [0, 31.5], [2, 4.2], [2.2, 2.9], [1.7, 3.6], [3, 4], [1, 4], [1.8, 1.5], [3.4, 3.6], [0.2, 2.5], [1, 1.3], [1, 2.5], [3, 1.1], [2, 0.1]]\n",
    "X_np = np.asarray(X)\n",
    "df_X = pd.DataFrame(X_np)\n",
    "Y = [0, 0, 0, 0, 0, 0, 0, 1, 1, 1, 1, 1, 1, 1]\n",
    "Y_np = np.asarray(Y)\n",
    "df_Y = pd.DataFrame(Y_np)\n",
    "dataSet = pd.concat([df_X, df_Y], ignore_index=True, axis=1)\n",
    "dataSet.columns = ['x', 'y', 'target']\n",
    "dataSet.head()\n"
   ]
  },
  {
   "cell_type": "markdown",
   "metadata": {},
   "source": [
    "Next, let's create variables to feed into the svn function. We will separate the point coordinates and classifier information."
   ]
  },
  {
   "cell_type": "code",
   "execution_count": 61,
   "metadata": {},
   "outputs": [],
   "source": [
    "features = dataSet[['x', 'y']]\n",
    "label = dataSet['target']"
   ]
  },
  {
   "cell_type": "markdown",
   "metadata": {},
   "source": [
    "### Plot the data\n",
    "\n",
    "Before generating the SVM model, let's look at the data to determine what type of classifier to use. "
   ]
  },
  {
   "cell_type": "code",
   "execution_count": 62,
   "metadata": {},
   "outputs": [],
   "source": [
    "%matplotlib inline\n",
    "import matplotlib.pyplot as plt"
   ]
  },
  {
   "cell_type": "code",
   "execution_count": 63,
   "metadata": {},
   "outputs": [
    {
     "data": {
      "image/png": "[encoded data removed]",
      "text/plain": [
       "<Figure size 864x504 with 1 Axes>"
      ]
     },
     "metadata": {
      "needs_background": "light"
     },
     "output_type": "display_data"
    }
   ],
   "source": [
    "# Plotting the training set\n",
    "fig, ax = plt.subplots(figsize=(12, 7))\n",
    "# removing to and right border\n",
    "ax.spines['top'].set_visible(False)\n",
    "ax.spines['left'].set_visible(False)\n",
    "ax.spines['right'].set_visible(False)\n",
    "# adding major gridlines\n",
    "ax.grid(color='grey', linestyle='-', linewidth=0.25, alpha=0.5)\n",
    "ax.scatter(features['x'], features['y'], color=\"#8C7298\")\n",
    "plt.show()"
   ]
  },
  {
   "cell_type": "markdown",
   "metadata": {},
   "source": [
    "Based on the plot, it can be seen that the classifier or hyperplane is a line parallel to the X-axis."
   ]
  },
  {
   "cell_type": "markdown",
   "metadata": {},
   "source": [
    "### Model and Fitting\n",
    "\n",
    "Let's create a linear SVM model, and plot the hyperplane (nominal, minimum & maximum), and the support vectors."
   ]
  },
  {
   "cell_type": "code",
   "execution_count": 64,
   "metadata": {},
   "outputs": [
    {
     "data": {
      "text/plain": [
       "SVC(kernel='linear')"
      ]
     },
     "execution_count": 64,
     "metadata": {},
     "output_type": "execute_result"
    }
   ],
   "source": [
    "x_test = features.values\n",
    "y_test = label.values\n",
    "\n",
    "model = svm.SVC(kernel='linear')\n",
    "model.fit(x_test, y_test)"
   ]
  },
  {
   "cell_type": "code",
   "execution_count": 65,
   "metadata": {},
   "outputs": [
    {
     "data": {
      "image/png": "[encoded data removed]",
      "text/plain": [
       "<Figure size 864x504 with 1 Axes>"
      ]
     },
     "metadata": {
      "needs_background": "light"
     },
     "output_type": "display_data"
    }
   ],
   "source": [
    "fig, ax = plt.subplots(figsize=(12, 7))\n",
    "# Removing to and right border\n",
    "ax.spines['top'].set_visible(False)\n",
    "ax.spines['left'].set_visible(False)\n",
    "ax.spines['right'].set_visible(False)\n",
    "# Create grid to evaluate model\n",
    "xx = np.linspace(-1, max(features['x']) + 1, len(x_test))\n",
    "yy = np.linspace(0, max(features['y']) + 1, len(y_test))\n",
    "YY, XX = np.meshgrid(yy, xx)\n",
    "xy = np.vstack([XX.ravel(), YY.ravel()]).T\n",
    "train_size = len(features['x'])\n",
    "# Assigning different colors to the classes\n",
    "colors = y_test\n",
    "colors = np.where(colors == 1, '#8C7298', '#4786D1')\n",
    "# Plot the dataset\n",
    "ax.scatter(features['x'], features['y'], c=colors)\n",
    "# Get the separating hyperplane\n",
    "Z = model.decision_function(xy).reshape(XX.shape)\n",
    "# Draw the decision boundary and margins\n",
    "ax.contour(XX, YY, Z, colors='k', levels=[-1, 0, 1], alpha=0.5, linestyles=['--', '-', '--'])\n",
    "# Highlight support vectors with a circle around them\n",
    "ax.scatter(model.support_vectors_[:, 0], model.support_vectors_[:, 1], s=100, linewidth=1, facecolors='none', edgecolors='k')\n",
    "plt.show()"
   ]
  },
  {
   "cell_type": "markdown",
   "metadata": {},
   "source": [
    "As seen in the plot, the hyperplane does a reasonable job separating the two sets of data. One point from each set is misclassified. The support vectors are plotted with an outer black circle. \n",
    "\n",
    "The Support Vectors are"
   ]
  },
  {
   "cell_type": "code",
   "execution_count": 66,
   "metadata": {},
   "outputs": [
    {
     "data": {
      "text/plain": [
       "array([[2.2, 2.9],\n",
       "       [1.7, 3.6],\n",
       "       [3. , 4. ],\n",
       "       [1. , 4. ],\n",
       "       [3.4, 3.6],\n",
       "       [0.2, 2.5],\n",
       "       [1. , 2.5]])"
      ]
     },
     "execution_count": 66,
     "metadata": {},
     "output_type": "execute_result"
    }
   ],
   "source": [
    "model.support_vectors_"
   ]
  },
  {
   "cell_type": "markdown",
   "metadata": {},
   "source": [
    "## Additional Problem\n",
    "\n",
    "Add two more points to the training set to see how the hyperplane changes.\n",
    "\n",
    "| X | Y | Classifier |\n",
    "| --- | --- | --- |\n",
    "| 0.2 | 2.5 | 0 |\n",
    "| 1.7 | 3.6 | 1 |\n"
   ]
  },
  {
   "cell_type": "markdown",
   "metadata": {},
   "source": [
    "### Define Inputs"
   ]
  },
  {
   "cell_type": "code",
   "execution_count": 67,
   "metadata": {},
   "outputs": [
    {
     "data": {
      "text/html": [
       "<div>\n",
       "<style scoped>\n",
       "    .dataframe tbody tr th:only-of-type {\n",
       "        vertical-align: middle;\n",
       "    }\n",
       "\n",
       "    .dataframe tbody tr th {\n",
       "        vertical-align: top;\n",
       "    }\n",
       "\n",
       "    .dataframe thead th {\n",
       "        text-align: right;\n",
       "    }\n",
       "</style>\n",
       "<table border=\"1\" class=\"dataframe\">\n",
       "  <thead>\n",
       "    <tr style=\"text-align: right;\">\n",
       "      <th></th>\n",
       "      <th>x</th>\n",
       "      <th>y</th>\n",
       "      <th>target</th>\n",
       "    </tr>\n",
       "  </thead>\n",
       "  <tbody>\n",
       "    <tr>\n",
       "      <th>0</th>\n",
       "      <td>0.2</td>\n",
       "      <td>2.5</td>\n",
       "      <td>0</td>\n",
       "    </tr>\n",
       "    <tr>\n",
       "      <th>1</th>\n",
       "      <td>0.0</td>\n",
       "      <td>13.3</td>\n",
       "      <td>0</td>\n",
       "    </tr>\n",
       "    <tr>\n",
       "      <th>2</th>\n",
       "      <td>0.0</td>\n",
       "      <td>31.5</td>\n",
       "      <td>0</td>\n",
       "    </tr>\n",
       "    <tr>\n",
       "      <th>3</th>\n",
       "      <td>2.0</td>\n",
       "      <td>4.2</td>\n",
       "      <td>0</td>\n",
       "    </tr>\n",
       "    <tr>\n",
       "      <th>4</th>\n",
       "      <td>2.2</td>\n",
       "      <td>2.9</td>\n",
       "      <td>0</td>\n",
       "    </tr>\n",
       "  </tbody>\n",
       "</table>\n",
       "</div>"
      ],
      "text/plain": [
       "     x     y  target\n",
       "0  0.2   2.5       0\n",
       "1  0.0  13.3       0\n",
       "2  0.0  31.5       0\n",
       "3  2.0   4.2       0\n",
       "4  2.2   2.9       0"
      ]
     },
     "execution_count": 67,
     "metadata": {},
     "output_type": "execute_result"
    }
   ],
   "source": [
    "X = [[0.2, 2.5], [0, 13.3], [0, 31.5], [2, 4.2], [2.2, 2.9], [1.7, 3.6], [3, 4], [1, 4], [1.8, 1.5], [3.4, 3.6], [0.2, 2.5], [1, 1.3], [1, 2.5], [3, 1.1], [2, 0.1], [1.7, 3.6]]\n",
    "X_np = np.asarray(X)\n",
    "df_X = pd.DataFrame(X_np)\n",
    "Y = [0, 0, 0, 0, 0, 0, 0, 0, 1, 1, 1, 1, 1, 1, 1, 1]\n",
    "Y_np = np.asarray(Y)\n",
    "df_Y = pd.DataFrame(Y_np)\n",
    "dataSet = pd.concat([df_X, df_Y], ignore_index=True, axis=1)\n",
    "dataSet.columns = ['x', 'y', 'target']\n",
    "dataSet.head()"
   ]
  },
  {
   "cell_type": "code",
   "execution_count": 68,
   "metadata": {},
   "outputs": [],
   "source": [
    "features = dataSet[['x', 'y']]\n",
    "label = dataSet['target']"
   ]
  },
  {
   "cell_type": "markdown",
   "metadata": {},
   "source": [
    "### Plot the data"
   ]
  },
  {
   "cell_type": "code",
   "execution_count": 69,
   "metadata": {},
   "outputs": [
    {
     "data": {
      "image/png": "[encoded data removed]",
      "text/plain": [
       "<Figure size 864x504 with 1 Axes>"
      ]
     },
     "metadata": {
      "needs_background": "light"
     },
     "output_type": "display_data"
    }
   ],
   "source": [
    "# Plotting the training set\n",
    "fig, ax = plt.subplots(figsize=(12, 7))\n",
    "# removing to and right border\n",
    "ax.spines['top'].set_visible(False)\n",
    "ax.spines['left'].set_visible(False)\n",
    "ax.spines['right'].set_visible(False)\n",
    "# adding major gridlines\n",
    "ax.grid(color='grey', linestyle='-', linewidth=0.25, alpha=0.5)\n",
    "ax.scatter(features['x'], features['y'], color=\"#8C7298\")\n",
    "plt.show()"
   ]
  },
  {
   "cell_type": "markdown",
   "metadata": {},
   "source": [
    "### Model and Fitting"
   ]
  },
  {
   "cell_type": "code",
   "execution_count": 70,
   "metadata": {},
   "outputs": [
    {
     "data": {
      "text/plain": [
       "SVC(kernel='linear')"
      ]
     },
     "execution_count": 70,
     "metadata": {},
     "output_type": "execute_result"
    }
   ],
   "source": [
    "x_test = features.values\n",
    "y_test = label.values\n",
    "\n",
    "model = svm.SVC(kernel='linear')\n",
    "model.fit(x_test, y_test)"
   ]
  },
  {
   "cell_type": "code",
   "execution_count": 71,
   "metadata": {},
   "outputs": [
    {
     "data": {
      "image/png": "[encoded data removed]",
      "text/plain": [
       "<Figure size 864x504 with 1 Axes>"
      ]
     },
     "metadata": {
      "needs_background": "light"
     },
     "output_type": "display_data"
    }
   ],
   "source": [
    "fig, ax = plt.subplots(figsize=(12, 7))\n",
    "# Removing to and right border\n",
    "ax.spines['top'].set_visible(False)\n",
    "ax.spines['left'].set_visible(False)\n",
    "ax.spines['right'].set_visible(False)\n",
    "# Create grid to evaluate model\n",
    "xx = np.linspace(-1, max(features['x']) + 1, len(x_test))\n",
    "yy = np.linspace(0, max(features['y']) + 1, len(y_test))\n",
    "YY, XX = np.meshgrid(yy, xx)\n",
    "xy = np.vstack([XX.ravel(), YY.ravel()]).T\n",
    "train_size = len(features['x'])\n",
    "# Assigning different colors to the classes\n",
    "colors = y_test\n",
    "colors = np.where(colors == 1, '#8C7298', '#4786D1')\n",
    "# Plot the dataset\n",
    "ax.scatter(features['x'], features['y'], c=colors)\n",
    "# Get the separating hyperplane\n",
    "Z = model.decision_function(xy).reshape(XX.shape)\n",
    "# Draw the decision boundary and margins\n",
    "ax.contour(XX, YY, Z, colors='k', levels=[-1, 0, 1], alpha=0.5, linestyles=['--', '-', '--'])\n",
    "# Highlight support vectors with a circle around them\n",
    "ax.scatter(model.support_vectors_[:, 0], model.support_vectors_[:, 1], s=100, linewidth=1, facecolors='none', edgecolors='k')\n",
    "plt.show()"
   ]
  },
  {
   "cell_type": "markdown",
   "metadata": {},
   "source": [
    "As seen in the plot, the hyperplane is raised up compared to the previous hyperplane. Two points from Classifier 1 are misclassified. The support vectors are plotted with an outer black circle. \n",
    "\n",
    "The Support Vectors are"
   ]
  },
  {
   "cell_type": "code",
   "execution_count": 72,
   "metadata": {},
   "outputs": [
    {
     "data": {
      "text/plain": [
       "array([[0.2, 2.5],\n",
       "       [2.2, 2.9],\n",
       "       [1.7, 3.6],\n",
       "       [3. , 4. ],\n",
       "       [1. , 4. ],\n",
       "       [3.4, 3.6],\n",
       "       [0.2, 2.5],\n",
       "       [1. , 2.5],\n",
       "       [1.7, 3.6]])"
      ]
     },
     "execution_count": 72,
     "metadata": {},
     "output_type": "execute_result"
    }
   ],
   "source": [
    "model.support_vectors_"
   ]
  },
  {
   "cell_type": "markdown",
   "metadata": {},
   "source": [
    "## References\n",
    "\n",
    "[1] [Linear and Nonlinear Optimization, Second Edition, Griva et al](https://my.siam.org/Store/Product/viewproduct/?ProductId=1008)\n",
    "\n",
    "[2] [Support Vector Machines explained with Python examples](https://towardsdatascience.com/support-vector-machines-explained-with-python-examples-cb65e8172c85)"
   ]
  }
 ],
 "metadata": {
  "kernelspec": {
   "display_name": "Anaconda (base)",
   "language": "python",
   "name": "anaconda-base"
  },
  "language_info": {
   "codemirror_mode": {
    "name": "ipython",
    "version": 3
   },
   "file_extension": ".py",
   "mimetype": "text/x-python",
   "name": "python",
   "nbconvert_exporter": "python",
   "pygments_lexer": "ipython3",
   "version": "3.9.7"
  }
 },
 "nbformat": 4,
 "nbformat_minor": 4
}
