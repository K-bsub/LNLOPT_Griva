{
 "cells": [
  {
   "cell_type": "markdown",
   "id": "5e202f8a-2220-46ff-b9af-51ef755a2201",
   "metadata": {},
   "source": [
    "# Chapter 1 Exercise 7.2"
   ]
  },
  {
   "cell_type": "code",
   "execution_count": 70,
   "id": "e5a1b955-6da7-449d-a7bc-97996e3fab8b",
   "metadata": {},
   "outputs": [
    {
     "name": "stdout",
     "output_type": "stream",
     "text": [
      "Last Updated on: 2022-04-22 17:09:45.820276\n"
     ]
    }
   ],
   "source": [
    "from datetime import datetime\n",
    "print(\"Last Updated on: \" + str(datetime.now()))"
   ]
  },
  {
   "cell_type": "markdown",
   "id": "3feffcc6-b7f4-4f7c-8dd0-58956c00a252",
   "metadata": {
    "tags": []
   },
   "source": [
    "## Problem Statement\n",
    "\n",
    "**Support Vector Machine for breast cancer diagnosis**\n",
    "We use the Wisconsin Diagnosis Breast Cancer Database (WDBC) made publicly available by Wolberg, Street, and Mangasarian. \n",
    "\n",
    "[Link to data](https://math.gmu.edu/~igriva/book/ch1data.html) Book website.\n",
    "\n",
    "[wdbc.data](https://math.gmu.edu/~igriva/book/wdbc.data) contains 569 data vectors with 32 components.\n",
    "\n",
    "[wdbc.names](https://math.gmu.edu/~igriva/book/wdbc.names) gives details about the data.\n",
    "\n",
    "The first component is the patient number, the second indicates whether the cancer is \"malignant\" or \"benign\", and the rest of the components are the observations. \n",
    "\n",
    "Use the first 500 data vectors as the training set, use C = 1000, and plot the hyperplane. Predict the classification of the remaining 69 patients. "
   ]
  },
  {
   "cell_type": "markdown",
   "id": "8dd429a3-e611-40ed-ae2e-fbafd1bc2746",
   "metadata": {},
   "source": [
    "## Sklearn Support Vector Machines\n",
    "\n",
    "We will utilize the sklearn package and use the [SVM](https://scikit-learn.org/stable/modules/svm.html) functionality to find the maximum separating hyperplane.\n",
    "\n",
    "### Import packages"
   ]
  },
  {
   "cell_type": "code",
   "execution_count": 71,
   "id": "d58913d9-3e2e-4620-8a53-7062aedffc99",
   "metadata": {},
   "outputs": [],
   "source": [
    "from sklearn import svm\n",
    "from sklearn import metrics\n",
    "import numpy as np\n",
    "import pandas as pd\n",
    "%matplotlib inline\n",
    "import matplotlib.pyplot as plt\n",
    "import seaborn as sns"
   ]
  },
  {
   "cell_type": "markdown",
   "id": "a212a203-2279-4486-b61d-9585a94cacdc",
   "metadata": {},
   "source": [
    "### Import & Define Inputs\n",
    "\n",
    "Let's extract the data, and convert to a pandas dataframe."
   ]
  },
  {
   "cell_type": "code",
   "execution_count": 72,
   "id": "35d9b818-5108-4a63-826a-f084ded93cc2",
   "metadata": {},
   "outputs": [
    {
     "data": {
      "text/html": [
       "<div>\n",
       "<style scoped>\n",
       "    .dataframe tbody tr th:only-of-type {\n",
       "        vertical-align: middle;\n",
       "    }\n",
       "\n",
       "    .dataframe tbody tr th {\n",
       "        vertical-align: top;\n",
       "    }\n",
       "\n",
       "    .dataframe thead th {\n",
       "        text-align: right;\n",
       "    }\n",
       "</style>\n",
       "<table border=\"1\" class=\"dataframe\">\n",
       "  <thead>\n",
       "    <tr style=\"text-align: right;\">\n",
       "      <th></th>\n",
       "      <th>0</th>\n",
       "      <th>1</th>\n",
       "      <th>2</th>\n",
       "      <th>3</th>\n",
       "      <th>4</th>\n",
       "      <th>5</th>\n",
       "      <th>6</th>\n",
       "      <th>7</th>\n",
       "      <th>8</th>\n",
       "      <th>9</th>\n",
       "      <th>...</th>\n",
       "      <th>22</th>\n",
       "      <th>23</th>\n",
       "      <th>24</th>\n",
       "      <th>25</th>\n",
       "      <th>26</th>\n",
       "      <th>27</th>\n",
       "      <th>28</th>\n",
       "      <th>29</th>\n",
       "      <th>30</th>\n",
       "      <th>31</th>\n",
       "    </tr>\n",
       "  </thead>\n",
       "  <tbody>\n",
       "    <tr>\n",
       "      <th>0</th>\n",
       "      <td>842302</td>\n",
       "      <td>0</td>\n",
       "      <td>17.99</td>\n",
       "      <td>10.38</td>\n",
       "      <td>122.80</td>\n",
       "      <td>1001.0</td>\n",
       "      <td>0.11840</td>\n",
       "      <td>0.27760</td>\n",
       "      <td>0.3001</td>\n",
       "      <td>0.14710</td>\n",
       "      <td>...</td>\n",
       "      <td>25.38</td>\n",
       "      <td>17.33</td>\n",
       "      <td>184.60</td>\n",
       "      <td>2019.0</td>\n",
       "      <td>0.1622</td>\n",
       "      <td>0.6656</td>\n",
       "      <td>0.7119</td>\n",
       "      <td>0.2654</td>\n",
       "      <td>0.4601</td>\n",
       "      <td>0.11890</td>\n",
       "    </tr>\n",
       "    <tr>\n",
       "      <th>1</th>\n",
       "      <td>842517</td>\n",
       "      <td>0</td>\n",
       "      <td>20.57</td>\n",
       "      <td>17.77</td>\n",
       "      <td>132.90</td>\n",
       "      <td>1326.0</td>\n",
       "      <td>0.08474</td>\n",
       "      <td>0.07864</td>\n",
       "      <td>0.0869</td>\n",
       "      <td>0.07017</td>\n",
       "      <td>...</td>\n",
       "      <td>24.99</td>\n",
       "      <td>23.41</td>\n",
       "      <td>158.80</td>\n",
       "      <td>1956.0</td>\n",
       "      <td>0.1238</td>\n",
       "      <td>0.1866</td>\n",
       "      <td>0.2416</td>\n",
       "      <td>0.1860</td>\n",
       "      <td>0.2750</td>\n",
       "      <td>0.08902</td>\n",
       "    </tr>\n",
       "    <tr>\n",
       "      <th>2</th>\n",
       "      <td>84300903</td>\n",
       "      <td>0</td>\n",
       "      <td>19.69</td>\n",
       "      <td>21.25</td>\n",
       "      <td>130.00</td>\n",
       "      <td>1203.0</td>\n",
       "      <td>0.10960</td>\n",
       "      <td>0.15990</td>\n",
       "      <td>0.1974</td>\n",
       "      <td>0.12790</td>\n",
       "      <td>...</td>\n",
       "      <td>23.57</td>\n",
       "      <td>25.53</td>\n",
       "      <td>152.50</td>\n",
       "      <td>1709.0</td>\n",
       "      <td>0.1444</td>\n",
       "      <td>0.4245</td>\n",
       "      <td>0.4504</td>\n",
       "      <td>0.2430</td>\n",
       "      <td>0.3613</td>\n",
       "      <td>0.08758</td>\n",
       "    </tr>\n",
       "    <tr>\n",
       "      <th>3</th>\n",
       "      <td>84348301</td>\n",
       "      <td>0</td>\n",
       "      <td>11.42</td>\n",
       "      <td>20.38</td>\n",
       "      <td>77.58</td>\n",
       "      <td>386.1</td>\n",
       "      <td>0.14250</td>\n",
       "      <td>0.28390</td>\n",
       "      <td>0.2414</td>\n",
       "      <td>0.10520</td>\n",
       "      <td>...</td>\n",
       "      <td>14.91</td>\n",
       "      <td>26.50</td>\n",
       "      <td>98.87</td>\n",
       "      <td>567.7</td>\n",
       "      <td>0.2098</td>\n",
       "      <td>0.8663</td>\n",
       "      <td>0.6869</td>\n",
       "      <td>0.2575</td>\n",
       "      <td>0.6638</td>\n",
       "      <td>0.17300</td>\n",
       "    </tr>\n",
       "    <tr>\n",
       "      <th>4</th>\n",
       "      <td>84358402</td>\n",
       "      <td>0</td>\n",
       "      <td>20.29</td>\n",
       "      <td>14.34</td>\n",
       "      <td>135.10</td>\n",
       "      <td>1297.0</td>\n",
       "      <td>0.10030</td>\n",
       "      <td>0.13280</td>\n",
       "      <td>0.1980</td>\n",
       "      <td>0.10430</td>\n",
       "      <td>...</td>\n",
       "      <td>22.54</td>\n",
       "      <td>16.67</td>\n",
       "      <td>152.20</td>\n",
       "      <td>1575.0</td>\n",
       "      <td>0.1374</td>\n",
       "      <td>0.2050</td>\n",
       "      <td>0.4000</td>\n",
       "      <td>0.1625</td>\n",
       "      <td>0.2364</td>\n",
       "      <td>0.07678</td>\n",
       "    </tr>\n",
       "  </tbody>\n",
       "</table>\n",
       "<p>5 rows × 32 columns</p>\n",
       "</div>"
      ],
      "text/plain": [
       "         0   1      2      3       4       5        6        7       8   \\\n",
       "0    842302   0  17.99  10.38  122.80  1001.0  0.11840  0.27760  0.3001   \n",
       "1    842517   0  20.57  17.77  132.90  1326.0  0.08474  0.07864  0.0869   \n",
       "2  84300903   0  19.69  21.25  130.00  1203.0  0.10960  0.15990  0.1974   \n",
       "3  84348301   0  11.42  20.38   77.58   386.1  0.14250  0.28390  0.2414   \n",
       "4  84358402   0  20.29  14.34  135.10  1297.0  0.10030  0.13280  0.1980   \n",
       "\n",
       "        9   ...     22     23      24      25      26      27      28      29  \\\n",
       "0  0.14710  ...  25.38  17.33  184.60  2019.0  0.1622  0.6656  0.7119  0.2654   \n",
       "1  0.07017  ...  24.99  23.41  158.80  1956.0  0.1238  0.1866  0.2416  0.1860   \n",
       "2  0.12790  ...  23.57  25.53  152.50  1709.0  0.1444  0.4245  0.4504  0.2430   \n",
       "3  0.10520  ...  14.91  26.50   98.87   567.7  0.2098  0.8663  0.6869  0.2575   \n",
       "4  0.10430  ...  22.54  16.67  152.20  1575.0  0.1374  0.2050  0.4000  0.1625   \n",
       "\n",
       "       30       31  \n",
       "0  0.4601  0.11890  \n",
       "1  0.2750  0.08902  \n",
       "2  0.3613  0.08758  \n",
       "3  0.6638  0.17300  \n",
       "4  0.2364  0.07678  \n",
       "\n",
       "[5 rows x 32 columns]"
      ]
     },
     "execution_count": 72,
     "metadata": {},
     "output_type": "execute_result"
    }
   ],
   "source": [
    "data_url = \"https://math.gmu.edu/~igriva/book/wdbc.data\"\n",
    "df = pd.read_csv(data_url, header=None)\n",
    "df[1] = df[1].map({'M': 0, 'B': 1})\n",
    "df.head()"
   ]
  },
  {
   "cell_type": "markdown",
   "id": "663cd1a3-cbaa-4ec6-ab5c-732b409c35ea",
   "metadata": {},
   "source": [
    "Next, let's create variables to feed into the svn function. We will separate the point coordinates and classifier information."
   ]
  },
  {
   "cell_type": "code",
   "execution_count": 73,
   "id": "13efd022-0f6a-4566-9fc3-f3f23d972cd5",
   "metadata": {},
   "outputs": [],
   "source": [
    "features = df.iloc[:500,2:]\n",
    "label = df.iloc[:500,1]\n",
    "features_tst = df.iloc[500:,2:]\n",
    "label_tst = df.iloc[500:,1]"
   ]
  },
  {
   "cell_type": "markdown",
   "id": "8ba28e7a-49ad-4926-b52b-5323d995e5c0",
   "metadata": {},
   "source": [
    "### Model and Fitting\n",
    "\n",
    "Let's create a linear SVM model, and find the support vectors, and look at the accuracy of the model."
   ]
  },
  {
   "cell_type": "code",
   "execution_count": 74,
   "id": "c17b2cab-885a-40b2-bc06-4f91f0da12ed",
   "metadata": {},
   "outputs": [
    {
     "data": {
      "text/plain": [
       "SVC(C=1000, kernel='linear')"
      ]
     },
     "execution_count": 74,
     "metadata": {},
     "output_type": "execute_result"
    }
   ],
   "source": [
    "x_test = features.values\n",
    "y_test = label.values\n",
    "\n",
    "model = svm.SVC(kernel='linear', C=1000)\n",
    "model.fit(x_test, y_test)"
   ]
  },
  {
   "cell_type": "markdown",
   "id": "0e503c94-5ed5-44c6-820e-9e8c088522b9",
   "metadata": {},
   "source": [
    "The Support Vecotrs are"
   ]
  },
  {
   "cell_type": "code",
   "execution_count": 75,
   "id": "c4033048-f8c4-4349-a2fd-8de6a17bb8f3",
   "metadata": {},
   "outputs": [
    {
     "data": {
      "text/plain": [
       "array([[1.245e+01, 1.570e+01, 8.257e+01, ..., 1.741e-01, 3.985e-01,\n",
       "        1.244e-01],\n",
       "       [1.499e+01, 2.520e+01, 9.554e+01, ..., 2.899e-02, 1.565e-01,\n",
       "        5.504e-02],\n",
       "       [1.095e+01, 2.135e+01, 7.190e+01, ..., 1.424e-01, 2.964e-01,\n",
       "        9.606e-02],\n",
       "       ...,\n",
       "       [1.324e+01, 2.013e+01, 8.687e+01, ..., 1.357e-01, 2.845e-01,\n",
       "        1.249e-01],\n",
       "       [1.314e+01, 2.074e+01, 8.598e+01, ..., 1.181e-01, 2.563e-01,\n",
       "        8.174e-02],\n",
       "       [1.390e+01, 1.924e+01, 8.873e+01, ..., 8.150e-02, 2.356e-01,\n",
       "        7.603e-02]])"
      ]
     },
     "execution_count": 75,
     "metadata": {},
     "output_type": "execute_result"
    }
   ],
   "source": [
    "model.support_vectors_"
   ]
  },
  {
   "cell_type": "markdown",
   "id": "30120821-89b9-46a5-bff1-4a8ea3a08fca",
   "metadata": {},
   "source": [
    "The prediction for the rest of the dataset is"
   ]
  },
  {
   "cell_type": "code",
   "execution_count": 76,
   "id": "14281706-c003-4595-9f87-4c25d3342984",
   "metadata": {},
   "outputs": [
    {
     "data": {
      "text/plain": [
       "array([1, 0, 1, 0, 1, 1, 1, 1, 1, 0, 1, 1, 0, 1, 0, 1, 0, 0, 1, 1, 1, 0,\n",
       "       1, 1, 1, 1, 1, 1, 1, 1, 1, 1, 1, 0, 1, 0, 1, 1, 1, 1, 1, 0, 1, 1,\n",
       "       1, 1, 1, 1, 1, 1, 1, 1, 1, 1, 1, 1, 1, 1, 1, 1, 1, 1, 0, 0, 0, 0,\n",
       "       0, 0, 1])"
      ]
     },
     "execution_count": 76,
     "metadata": {},
     "output_type": "execute_result"
    }
   ],
   "source": [
    "model.predict(features_tst)"
   ]
  },
  {
   "cell_type": "code",
   "execution_count": 77,
   "id": "cd54c635-b90d-4bd1-9b13-e4d67b93a083",
   "metadata": {},
   "outputs": [
    {
     "data": {
      "text/plain": [
       "array([1, 0, 1, 0, 1, 1, 1, 1, 1, 0, 1, 1, 0, 1, 0, 1, 0, 0, 1, 1, 1, 0,\n",
       "       1, 1, 1, 1, 1, 1, 1, 1, 1, 1, 1, 0, 1, 0, 0, 1, 1, 1, 1, 1, 1, 1,\n",
       "       1, 1, 1, 1, 1, 1, 1, 1, 1, 1, 1, 1, 1, 1, 1, 1, 1, 1, 0, 0, 0, 0,\n",
       "       0, 0, 1])"
      ]
     },
     "execution_count": 77,
     "metadata": {},
     "output_type": "execute_result"
    }
   ],
   "source": [
    "label_tst.values"
   ]
  },
  {
   "cell_type": "code",
   "execution_count": 78,
   "id": "e85f8f93-2fb3-4e28-bcf9-8d0b76ccbafc",
   "metadata": {},
   "outputs": [],
   "source": [
    "from sklearn.metrics import classification_report, confusion_matrix"
   ]
  },
  {
   "cell_type": "code",
   "execution_count": 79,
   "id": "29510824-2130-489a-948e-2044a48e7200",
   "metadata": {},
   "outputs": [
    {
     "data": {
      "text/html": [
       "<div>\n",
       "<style scoped>\n",
       "    .dataframe tbody tr th:only-of-type {\n",
       "        vertical-align: middle;\n",
       "    }\n",
       "\n",
       "    .dataframe tbody tr th {\n",
       "        vertical-align: top;\n",
       "    }\n",
       "\n",
       "    .dataframe thead th {\n",
       "        text-align: right;\n",
       "    }\n",
       "</style>\n",
       "<table border=\"1\" class=\"dataframe\">\n",
       "  <thead>\n",
       "    <tr style=\"text-align: right;\">\n",
       "      <th></th>\n",
       "      <th>predicted cancer</th>\n",
       "      <th>predicted healthy</th>\n",
       "    </tr>\n",
       "  </thead>\n",
       "  <tbody>\n",
       "    <tr>\n",
       "      <th>is cancer</th>\n",
       "      <td>16</td>\n",
       "      <td>1</td>\n",
       "    </tr>\n",
       "    <tr>\n",
       "      <th>is healthy</th>\n",
       "      <td>1</td>\n",
       "      <td>51</td>\n",
       "    </tr>\n",
       "  </tbody>\n",
       "</table>\n",
       "</div>"
      ],
      "text/plain": [
       "            predicted cancer  predicted healthy\n",
       "is cancer                 16                  1\n",
       "is healthy                 1                 51"
      ]
     },
     "execution_count": 79,
     "metadata": {},
     "output_type": "execute_result"
    }
   ],
   "source": [
    "cm = np.array(confusion_matrix(label_tst.values,model.predict(features_tst)))\n",
    "confusion = pd.DataFrame(cm, index = ['is cancer', 'is healthy'], columns = ['predicted cancer', 'predicted healthy'])\n",
    "confusion"
   ]
  },
  {
   "cell_type": "code",
   "execution_count": 80,
   "id": "7bf75bfe-8ee0-4297-b5e3-635cf0a1827b",
   "metadata": {},
   "outputs": [
    {
     "data": {
      "text/plain": [
       "<AxesSubplot:>"
      ]
     },
     "execution_count": 80,
     "metadata": {},
     "output_type": "execute_result"
    },
    {
     "data": {
      "image/png": "[encoded data removed]",
      "text/plain": [
       "<Figure size 432x288 with 2 Axes>"
      ]
     },
     "metadata": {
      "needs_background": "light"
     },
     "output_type": "display_data"
    }
   ],
   "source": [
    "sns.heatmap(confusion,annot=True)"
   ]
  },
  {
   "cell_type": "code",
   "execution_count": 81,
   "id": "97242416-5d0c-47e4-a7a5-0491f6d8a87b",
   "metadata": {},
   "outputs": [
    {
     "name": "stdout",
     "output_type": "stream",
     "text": [
      "              precision    recall  f1-score   support\n",
      "\n",
      "           0       0.94      0.94      0.94        17\n",
      "           1       0.98      0.98      0.98        52\n",
      "\n",
      "    accuracy                           0.97        69\n",
      "   macro avg       0.96      0.96      0.96        69\n",
      "weighted avg       0.97      0.97      0.97        69\n",
      "\n"
     ]
    }
   ],
   "source": [
    "print(classification_report(label_tst.values,model.predict(features_tst)))"
   ]
  },
  {
   "cell_type": "markdown",
   "id": "11172c8f-f7da-4df8-ba1b-c263bab4dcad",
   "metadata": {},
   "source": [
    "Only 2 events are misclassified. That is less than 3% or the model has 97.1% accuracy."
   ]
  },
  {
   "cell_type": "markdown",
   "id": "b668e9de-0f12-40fe-b641-aa890f07a69b",
   "metadata": {},
   "source": [
    "## References\n",
    "\n",
    "[1] [Linear and Nonlinear Optimization, Second Edition, Griva et al](https://my.siam.org/Store/Product/viewproduct/?ProductId=1008)\n",
    "\n",
    "[2] [Support Vector Machines explained with Python examples](https://towardsdatascience.com/support-vector-machines-explained-with-python-examples-cb65e8172c85)\n",
    "\n",
    "[3] [Breast Cancer Classification using SVM](https://towardsdatascience.com/breast-cancer-classification-using-support-vector-machine-svm-a510907d4878)"
   ]
  }
 ],
 "metadata": {
  "kernelspec": {
   "display_name": "Anaconda (base)",
   "language": "python",
   "name": "anaconda-base"
  },
  "language_info": {
   "codemirror_mode": {
    "name": "ipython",
    "version": 3
   },
   "file_extension": ".py",
   "mimetype": "text/x-python",
   "name": "python",
   "nbconvert_exporter": "python",
   "pygments_lexer": "ipython3",
   "version": "3.9.7"
  }
 },
 "nbformat": 4,
 "nbformat_minor": 5
}
